{
 "cells": [
  {
   "cell_type": "code",
   "execution_count": 1,
   "id": "ef704c72",
   "metadata": {},
   "outputs": [],
   "source": [
    "import json\n",
    "import matplotlib.pyplot as plt\n",
    "import numpy as np\n",
    "import pandas as pd\n",
    "from sim.dy.model_intv import ModelIntv\n",
    "import sim.dy.keys as I\n",
    "import numpy.random as rd"
   ]
  },
  {
   "cell_type": "code",
   "execution_count": 2,
   "id": "e674977c",
   "metadata": {},
   "outputs": [],
   "source": [
    "seed = 11667\n",
    "n_collect = 200\n",
    "cvs = np.concatenate([np.linspace(0, 0.2, 11), np.linspace(0.2, 0.5, 13)[1:]])\n",
    "coverage0 = 0.2\n",
    "\n",
    "folders = [\n",
    "    'dy_mul', \n",
    "    'dy_add',\n",
    "    'dy_ladd'\n",
    "]"
   ]
  },
  {
   "cell_type": "code",
   "execution_count": 3,
   "id": "694ed1a8",
   "metadata": {},
   "outputs": [],
   "source": [
    "def collect_sens(pars_post, pars_sel, changes=[-0.1, -0.05, 0, 0.05, 0.1], coverage=0.2, alg='VSC'):    \n",
    "    m = ModelIntv()\n",
    "\n",
    "    intv = {'FullACF': {'Coverage': coverage, 'ScreenAlg': alg}}\n",
    "    \n",
    "    mss_stats = list()\n",
    "    \n",
    "    for p in pars_sel:\n",
    "        print(p)\n",
    "        for i, pars in enumerate(pars_post):\n",
    "            for change in changes:\n",
    "                ps = dict(pars)\n",
    "                ps[p] = ps[p] * (1 + change)               \n",
    "                \n",
    "                y1, ps = m.find_baseline(ps, 2022)\n",
    "                \n",
    "                _, (_, ms_stats0), _ = m.simulate_onward(y1, ps, intv={}, polished=True)\n",
    "                _, (_, ms_stats1), _ = m.simulate_onward(y1, ps, intv=intv, polished=True)\n",
    "                ms_stats = {\n",
    "                    'Inc': 1 - ms_stats1['Inc'] / ms_stats0['Inc'],\n",
    "                    'Mor': 1 - ms_stats1['Mor'] / ms_stats0['Mor'],\n",
    "                    'Key': i, 'Change': change, 'Par': p\n",
    "                }\n",
    "        \n",
    "                mss_stats.append(ms_stats)\n",
    "\n",
    "    mss_stats = pd.DataFrame(mss_stats).assign(Alg=alg, Coverage=coverage)\n",
    "    return mss_stats"
   ]
  },
  {
   "cell_type": "code",
   "execution_count": 4,
   "id": "0b554daf",
   "metadata": {},
   "outputs": [],
   "source": [
    "pars_sel = [\n",
    "    'beta_ds',\n",
    "    'rr_beta_dr', 'rr_inf_asym', 'rr_sus_ltbi',\n",
    "    'r_react', 'r_relapse_td', 'r_relapse_tc', 'r_relapse_st',\n",
    "    'r_onset', 'r_clear',\n",
    "    'r_cs_s', 'r_cs_c',\n",
    "    'p_entry_pri', 'p_dx_pub', 'p_dx_pri'\n",
    "]"
   ]
  },
  {
   "cell_type": "code",
   "execution_count": null,
   "id": "6257d977",
   "metadata": {},
   "outputs": [
    {
     "name": "stdout",
     "output_type": "stream",
     "text": [
      "dy_mul\n",
      "beta_ds\n"
     ]
    }
   ],
   "source": [
    "for folder in folders:    \n",
    "    rd.seed(seed)\n",
    "    \n",
    "    print(folder)\n",
    "    out_path = f'out/{folder}'\n",
    "    pars_post = json.load(open(f'{out_path}/Post.json', 'r'))\n",
    "\n",
    "    sel = rd.choice(list(range(len(pars_post))), n_collect)\n",
    "    sel.sort()\n",
    "\n",
    "    pars_post = [pars_post[i] for i in sel]\n",
    "\n",
    "    mss_stats = collect_sens(pars_post, pars_sel, \n",
    "                             changes=[-0.1, -0.05, 0, 0.05, 0.1], \n",
    "                             coverage=0.2, alg='VSC')\n",
    "    \n",
    "    mss_stats.to_csv(f'{out_path}/Sens_Pars_stats.csv')"
   ]
  }
 ],
 "metadata": {
  "kernelspec": {
   "display_name": "Python 3 (ipykernel)",
   "language": "python",
   "name": "python3"
  },
  "language_info": {
   "codemirror_mode": {
    "name": "ipython",
    "version": 3
   },
   "file_extension": ".py",
   "mimetype": "text/x-python",
   "name": "python",
   "nbconvert_exporter": "python",
   "pygments_lexer": "ipython3",
   "version": "3.10.5"
  }
 },
 "nbformat": 4,
 "nbformat_minor": 5
}
