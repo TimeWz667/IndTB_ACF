{
 "cells": [
  {
   "cell_type": "code",
   "execution_count": 1,
   "id": "36044b3e",
   "metadata": {},
   "outputs": [],
   "source": [
    "import json\n",
    "import matplotlib.pyplot as plt\n",
    "import numpy as np\n",
    "import pandas as pd\n",
    "from sim.dy.model_intv import ModelIntv\n",
    "import sim.dy.keys as I\n",
    "import numpy.random as rd"
   ]
  },
  {
   "cell_type": "code",
   "execution_count": 2,
   "id": "3684c2ef",
   "metadata": {},
   "outputs": [],
   "source": [
    "n_collect = 5"
   ]
  },
  {
   "cell_type": "code",
   "execution_count": 3,
   "id": "f9ef2045",
   "metadata": {},
   "outputs": [],
   "source": [
    "def get_stats(ms, idx, **kwargs):\n",
    "    ms_stats = dict()\n",
    "    ms_stats.update(kwargs)\n",
    "    ms_stats['Pop0'] = ms.Pop.iloc[0]\n",
    "    \n",
    "    for key in idx[1:]:\n",
    "        try:\n",
    "            ms_stats[key] = (ms[key] * ms.Pop).sum() * 0.5\n",
    "        except KeyError:\n",
    "            ms_stats[key] = 0\n",
    "    return ms_stats"
   ]
  },
  {
   "cell_type": "code",
   "execution_count": 6,
   "id": "e5a878f0",
   "metadata": {},
   "outputs": [],
   "source": [
    "def collect_fux(pars_post, n_collect=20, coverage=0.03, duration=2, tp=\"VulACF\"):\n",
    "    idx = ['Pop', 'IncR', 'MorR', \n",
    "           'ACF_Vul_Footfall', 'ACF_Vul_Screened', 'ACF_Vul_Confirmed', 'ACF_Vul_Yield', 'ACF_Vul_TP',\n",
    "           'ACF_Vul_DS_Fl', 'ACF_Vul_DR_Fl', 'ACF_Vul_DR_Sl', \n",
    "           'ACF_Vulfu_Footfall', 'ACF_Vulfu_Screened', 'ACF_Vulfu_Confirmed', 'ACF_Vulfu_Yield', 'ACF_Vulfu_TP',\n",
    "           'ACF_Vulfu_DS_Fl', 'ACF_Vulfu_DR_Fl', 'ACF_Vulfu_DR_Sl', \n",
    "           'ACF_Plain_Footfall', 'ACF_Plain_Screened', 'ACF_Plain_Confirmed', 'ACF_Plain_Yield', 'ACF_Plain_TP', \n",
    "           'ACF_Plain_DS_Fl', 'ACF_Plain_DR_Fl', 'ACF_Plain_DR_Sl']\n",
    "    \n",
    "    \n",
    "    m = ModelIntv()\n",
    "    \n",
    "    sel = rd.choice(list(range(len(pars_post))), n_collect)\n",
    "    sel.sort()\n",
    "\n",
    "    mss = list()\n",
    "    mss_stats = list()\n",
    "\n",
    "\n",
    "    for i in sel:\n",
    "        pars = pars_post[i]\n",
    "        y1, pars = m.find_baseline(pars, 2022)\n",
    "    \n",
    "        _, ms, _ = m.simulate_onward(y1, pars, intv={}, t_end=2031)\n",
    "\n",
    "        ms = ms.reset_index().assign(Key=i, FollowUp=0, Duration=0)\n",
    "        mss.append(ms)\n",
    "        ms_stats = get_stats(ms, idx, Key=i, Scenario='Baseline', Coverage=coverage, FollowUp=0, Duration=0)\n",
    "        mss_stats.append(ms_stats)\n",
    "    \n",
    "        for n_fu in np.linspace(0, 6, 5): # + [24, 30, 36]:\n",
    "            if n_fu > 0:\n",
    "                fu = 1 / n_fu\n",
    "            else:\n",
    "                fu = 0\n",
    "\n",
    "            for c1 in np.linspace(0, 2, 20):\n",
    "                intv = {'VulACF': {'Coverage': c1, 'FollowUp': fu, 'Duration': duration}}\n",
    "\n",
    "                _, ms, _ = m.simulate_onward(y1, pars, intv=intv, t_end=2031)\n",
    "                try:\n",
    "                    ms = ms.reset_index().assign(Key = i, FollowUp=fu, Duration=duration)\n",
    "                    mss.append(ms)\n",
    "                    ms_stats = get_stats(ms, idx, Key=i, Scenario='Intervention', Coverage=c1, FollowUp=fu, Duration=duration)\n",
    "                    mss_stats.append(ms_stats)\n",
    "                except TypeError:\n",
    "                    pass\n",
    "            \n",
    "    mss = pd.concat(mss)\n",
    "    mss_stats = pd.DataFrame(mss_stats)\n",
    "    return mss, mss_stats"
   ]
  },
  {
   "cell_type": "code",
   "execution_count": 7,
   "id": "acd3a9ec",
   "metadata": {},
   "outputs": [
    {
     "name": "stdout",
     "output_type": "stream",
     "text": [
      "dy_hi\n"
     ]
    }
   ],
   "source": [
    "for folder in ['dy_hi']:\n",
    "    print(folder)\n",
    "    out_path = f'out/{folder}'\n",
    "    pars_post = json.load(open(f'{out_path}/Post.json', 'r'))\n",
    "    r_acf = json.load(open(f'{out_path}/R_ACF_Bg.json', 'r'))\n",
    "\n",
    "    for p in pars_post:\n",
    "        p.update(r_acf)\n",
    "        \n",
    "    mss, mss_stats = collect_fux(pars_post, n_collect=n_collect, coverage=0.03)\n",
    "    mss.to_csv(f'{out_path}/Sim_VulACF_cex.csv')\n",
    "    mss_stats.to_csv(f'{out_path}/Sim_VulACF_cex_stats.csv')"
   ]
  },
  {
   "cell_type": "code",
   "execution_count": null,
   "id": "cb781eab",
   "metadata": {},
   "outputs": [],
   "source": []
  }
 ],
 "metadata": {
  "kernelspec": {
   "display_name": "Python 3 (ipykernel)",
   "language": "python",
   "name": "python3"
  },
  "language_info": {
   "codemirror_mode": {
    "name": "ipython",
    "version": 3
   },
   "file_extension": ".py",
   "mimetype": "text/x-python",
   "name": "python",
   "nbconvert_exporter": "python",
   "pygments_lexer": "ipython3",
   "version": "3.10.5"
  }
 },
 "nbformat": 4,
 "nbformat_minor": 5
}
