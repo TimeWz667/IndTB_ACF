{
 "cells": [
  {
   "cell_type": "code",
   "execution_count": 31,
   "id": "7b03b0c6",
   "metadata": {},
   "outputs": [],
   "source": [
    "import pandas as pd\n",
    "import json\n",
    "from scipy.optimize import minimize\n",
    "import numpy as np"
   ]
  },
  {
   "cell_type": "code",
   "execution_count": 10,
   "id": "55f63bd2",
   "metadata": {},
   "outputs": [
    {
     "data": {
      "text/plain": [
       "{'Asym': {'ClusterType': 'Urban',\n",
       "  'M': 0.631150299630622,\n",
       "  'N': 205,\n",
       "  'L': 0.5658536585365853,\n",
       "  'U': 0.697560975609756},\n",
       " 'ExCS': {'ClusterType': 'Urban',\n",
       "  'M': 0.187873896500911,\n",
       "  'N': 205,\n",
       "  'L': 0.1365853658536585,\n",
       "  'U': 0.2439024390243902},\n",
       " 'PreCS': {'ClusterType': 'Urban',\n",
       "  'M': 0.1329020199964461,\n",
       "  'N': 205,\n",
       "  'L': 0.0878048780487804,\n",
       "  'U': 0.1804878048780487},\n",
       " 'SpAsym': {'ClusterType': 'Urban',\n",
       "  'M': 0.3290216415525827,\n",
       "  'N': 139,\n",
       "  'L': 0.2517985611510791,\n",
       "  'U': 0.4100719424460431},\n",
       " 'SpExCS': {'ClusterType': 'Urban',\n",
       "  'M': 0.3790364467396788,\n",
       "  'N': 30,\n",
       "  'L': 0.2,\n",
       "  'U': 0.5666666666666667},\n",
       " 'SpPreCS': {'ClusterType': 'Urban',\n",
       "  'M': 0.3892264961070054,\n",
       "  'N': 36,\n",
       "  'L': 0.2222222222222222,\n",
       "  'U': 0.5555555555555556},\n",
       " 'TB': {'ClusterType': 'Urban',\n",
       "  'M': 0.0023535119209745,\n",
       "  'N': 87617,\n",
       "  'L': 0.002042982526222,\n",
       "  'U': 0.0026821278975541}}"
      ]
     },
     "execution_count": 10,
     "metadata": {},
     "output_type": "execute_result"
    }
   ],
   "source": [
    "prev = pd.read_csv('data/TBPS_RU.csv')\n",
    "prev = prev[prev.ClusterType == 'Urban']\n",
    "prev = prev.set_index('Gp')\n",
    "prev = {i: dict(row) for i, row in prev.iterrows()}\n",
    "prev"
   ]
  },
  {
   "cell_type": "markdown",
   "id": "82730b59",
   "metadata": {},
   "source": [
    "## Prevalence"
   ]
  },
  {
   "cell_type": "code",
   "execution_count": 27,
   "id": "8bd11c05",
   "metadata": {},
   "outputs": [
    {
     "data": {
      "text/plain": [
       "{'slum': {'Index': 'Prev',\n",
       "  'M': 0.004754368892159283,\n",
       "  'L': 0.004127063255270464,\n",
       "  'U': 0.0054182115362490894},\n",
       " 'nonslum': {'Index': 'Prev',\n",
       "  'M': 0.0021070667359413863,\n",
       "  'L': 0.0018290540552390589,\n",
       "  'U': 0.002401272083693806}}"
      ]
     },
     "execution_count": 27,
     "metadata": {},
     "output_type": "execute_result"
    }
   ],
   "source": [
    "def find_prev_slum(prev_all, tbor, pr_slum):\n",
    "    pr = prev_all['M']\n",
    "\n",
    "    def fn(x):\n",
    "        pu, ps = x\n",
    "        return ((ps / (1 - ps)) / (pu / (1 - pu)) - tbor) ** 2 + (pu * (1 - pr_slum) + ps * pr_slum - pr) ** 2\n",
    "\n",
    "\n",
    "    sol = minimize(fn, [0.5, 0.5])\n",
    "    pu, ps = sol.x\n",
    "    \n",
    "    m, l, u = prev_all['M'], prev_all['L'], prev_all['U']\n",
    "    cu, cs = pu / m, ps / m\n",
    "    \n",
    "    return {\n",
    "        'slum': {'Index': 'Prev', 'M': cs * m, 'L': cs * l, 'U': cs * u},\n",
    "        'nonslum': {'Index': 'Prev', 'M': cu * m, 'L': cu * l, 'U': cu * u}\n",
    "    }\n",
    "\n",
    "\n",
    "prev_us = find_prev_slum(\n",
    "    prev_all = prev['TB'],\n",
    "    tbor = 2.26,\n",
    "    pr_slum = 0.2\n",
    ")\n",
    "\n",
    "prev_us"
   ]
  },
  {
   "cell_type": "markdown",
   "id": "7446c8de",
   "metadata": {},
   "source": [
    "## ARTI"
   ]
  },
  {
   "cell_type": "code",
   "execution_count": 39,
   "id": "58de52e5",
   "metadata": {},
   "outputs": [
    {
     "data": {
      "text/plain": [
       "{'slum': {'Index': 'ARTI',\n",
       "  'M': 0.013253613696730858,\n",
       "  'L': 0.010843865751870702,\n",
       "  'U': 0.015663361641591014},\n",
       " 'nonslum': {'Index': 'ARTI',\n",
       "  'M': 0.010688398142524886,\n",
       "  'L': 0.008745053025702179,\n",
       "  'U': 0.012631743259347593}}"
      ]
     },
     "execution_count": 39,
     "metadata": {},
     "output_type": "execute_result"
    }
   ],
   "source": [
    "def find_arti_slum(arti, rr, adr, pr_slum, year0, year1):\n",
    "    m, l, u = arti['M'], arti['L'], arti['U']\n",
    "\n",
    "    cu = 1 / (1 - pr_slum + pr_slum * rr) * np.exp(- adr * (year1 - year0))\n",
    "    cs = cu * rr\n",
    "    \n",
    "    return {\n",
    "        'slum': {'Index': 'ARTI', 'M': cs * m, 'L': cs * l, 'U': cs * u},\n",
    "        'nonslum': {'Index': 'ARTI', 'M': cu * m, 'L': cu * l, 'U': cu * u}\n",
    "    }\n",
    "\n",
    "\n",
    "arti_us = find_arti_slum(\n",
    "    arti = {'M': 0.022, 'L': 0.018, 'U': 0.026}, \n",
    "    rr = 1.24, \n",
    "    pr_slum = 0.2, \n",
    "    adr = 0.045,\n",
    "    year0 = 2005, \n",
    "    year1 = 2020\n",
    ")\n",
    "arti_us"
   ]
  },
  {
   "cell_type": "code",
   "execution_count": 40,
   "id": "2ee195b7",
   "metadata": {},
   "outputs": [
    {
     "data": {
      "text/plain": [
       "({'slum': {'Index': 'Prev',\n",
       "   'M': 0.004754368892159283,\n",
       "   'L': 0.004127063255270464,\n",
       "   'U': 0.0054182115362490894},\n",
       "  'nonslum': {'Index': 'Prev',\n",
       "   'M': 0.0021070667359413863,\n",
       "   'L': 0.0018290540552390589,\n",
       "   'U': 0.002401272083693806}},\n",
       " {'slum': {'Index': 'ARTI',\n",
       "   'M': 0.013253613696730858,\n",
       "   'L': 0.010843865751870702,\n",
       "   'U': 0.015663361641591014},\n",
       "  'nonslum': {'Index': 'ARTI',\n",
       "   'M': 0.010688398142524886,\n",
       "   'L': 0.008745053025702179,\n",
       "   'U': 0.012631743259347593}})"
      ]
     },
     "execution_count": 40,
     "metadata": {},
     "output_type": "execute_result"
    }
   ],
   "source": [
    "prev_us, arti_us\n"
   ]
  },
  {
   "cell_type": "code",
   "execution_count": 56,
   "id": "5fe239ba",
   "metadata": {},
   "outputs": [
    {
     "name": "stdout",
     "output_type": "stream",
     "text": [
      "Asym\t63% (57%-70%)\n",
      "ExCS\t19% (14%-24%)\n",
      "PreCS\t13% (9%-18%)\n",
      "SpAsym\t33% (25%-41%)\n",
      "SpExCS\t38% (20%-57%)\n",
      "SpPreCS\t39% (22%-56%)\n",
      "TB\t0% (0%-0%)\n"
     ]
    }
   ],
   "source": [
    "for k, ent in prev.items():\n",
    "    print(f\"{k}\\t{ent['M']:.0%} ({ent['L']:.0%}-{ent['U']:.0%})\")"
   ]
  },
  {
   "cell_type": "code",
   "execution_count": 64,
   "id": "cb494258",
   "metadata": {},
   "outputs": [
    {
     "data": {
      "text/html": [
       "<div>\n",
       "<style scoped>\n",
       "    .dataframe tbody tr th:only-of-type {\n",
       "        vertical-align: middle;\n",
       "    }\n",
       "\n",
       "    .dataframe tbody tr th {\n",
       "        vertical-align: top;\n",
       "    }\n",
       "\n",
       "    .dataframe thead th {\n",
       "        text-align: right;\n",
       "    }\n",
       "</style>\n",
       "<table border=\"1\" class=\"dataframe\">\n",
       "  <thead>\n",
       "    <tr style=\"text-align: right;\">\n",
       "      <th></th>\n",
       "      <th>Index</th>\n",
       "      <th>M</th>\n",
       "      <th>L</th>\n",
       "      <th>U</th>\n",
       "    </tr>\n",
       "  </thead>\n",
       "  <tbody>\n",
       "    <tr>\n",
       "      <th>0</th>\n",
       "      <td>Prev</td>\n",
       "      <td>0.004754</td>\n",
       "      <td>0.004127</td>\n",
       "      <td>0.005418</td>\n",
       "    </tr>\n",
       "    <tr>\n",
       "      <th>1</th>\n",
       "      <td>ARTI</td>\n",
       "      <td>0.013254</td>\n",
       "      <td>0.010844</td>\n",
       "      <td>0.015663</td>\n",
       "    </tr>\n",
       "    <tr>\n",
       "      <th>2</th>\n",
       "      <td>PrDR_CNR</td>\n",
       "      <td>0.041000</td>\n",
       "      <td>0.035000</td>\n",
       "      <td>0.045000</td>\n",
       "    </tr>\n",
       "    <tr>\n",
       "      <th>3</th>\n",
       "      <td>PrAsym</td>\n",
       "      <td>0.631150</td>\n",
       "      <td>0.565854</td>\n",
       "      <td>0.697561</td>\n",
       "    </tr>\n",
       "    <tr>\n",
       "      <th>4</th>\n",
       "      <td>PrPreCS</td>\n",
       "      <td>0.132902</td>\n",
       "      <td>0.087805</td>\n",
       "      <td>0.180488</td>\n",
       "    </tr>\n",
       "    <tr>\n",
       "      <th>5</th>\n",
       "      <td>PrExCS</td>\n",
       "      <td>0.187874</td>\n",
       "      <td>0.136585</td>\n",
       "      <td>0.243902</td>\n",
       "    </tr>\n",
       "    <tr>\n",
       "      <th>6</th>\n",
       "      <td>PrSpAsym</td>\n",
       "      <td>0.329022</td>\n",
       "      <td>0.251799</td>\n",
       "      <td>0.410072</td>\n",
       "    </tr>\n",
       "    <tr>\n",
       "      <th>7</th>\n",
       "      <td>PrSpPreCS</td>\n",
       "      <td>0.389226</td>\n",
       "      <td>0.222222</td>\n",
       "      <td>0.555556</td>\n",
       "    </tr>\n",
       "    <tr>\n",
       "      <th>8</th>\n",
       "      <td>PrSpExCS</td>\n",
       "      <td>0.379036</td>\n",
       "      <td>0.200000</td>\n",
       "      <td>0.566667</td>\n",
       "    </tr>\n",
       "  </tbody>\n",
       "</table>\n",
       "</div>"
      ],
      "text/plain": [
       "       Index         M         L         U\n",
       "0       Prev  0.004754  0.004127  0.005418\n",
       "1       ARTI  0.013254  0.010844  0.015663\n",
       "2   PrDR_CNR  0.041000  0.035000  0.045000\n",
       "3     PrAsym  0.631150  0.565854  0.697561\n",
       "4    PrPreCS  0.132902  0.087805  0.180488\n",
       "5     PrExCS  0.187874  0.136585  0.243902\n",
       "6   PrSpAsym  0.329022  0.251799  0.410072\n",
       "7  PrSpPreCS  0.389226  0.222222  0.555556\n",
       "8   PrSpExCS  0.379036  0.200000  0.566667"
      ]
     },
     "execution_count": 64,
     "metadata": {},
     "output_type": "execute_result"
    }
   ],
   "source": [
    "targets = [\n",
    "    prev_us['slum'], \n",
    "    arti_us['slum'],\n",
    "    {'Index': 'PrDR_CNR', 'M': 0.041, 'L': 0.035, 'U': 0.045}\n",
    "]\n",
    "\n",
    "for k in ['Asym', 'PreCS', 'ExCS', 'SpAsym', 'SpPreCS', 'SpExCS']:\n",
    "    ent = prev[k]\n",
    "    targets.append({\n",
    "        'Index': f'Pr{k}',\n",
    "        'M': ent['M'], 'L': ent['L'], 'U': ent['U']\n",
    "    })\n",
    "\n",
    "\n",
    "pd.DataFrame(targets)"
   ]
  },
  {
   "cell_type": "code",
   "execution_count": 65,
   "id": "b984be98",
   "metadata": {},
   "outputs": [],
   "source": [
    "with open('data/targets.json', 'w') as f:\n",
    "    json.dump(targets, f)"
   ]
  }
 ],
 "metadata": {
  "kernelspec": {
   "display_name": "Python 3 (ipykernel)",
   "language": "python",
   "name": "python3"
  },
  "language_info": {
   "codemirror_mode": {
    "name": "ipython",
    "version": 3
   },
   "file_extension": ".py",
   "mimetype": "text/x-python",
   "name": "python",
   "nbconvert_exporter": "python",
   "pygments_lexer": "ipython3",
   "version": "3.10.5"
  }
 },
 "nbformat": 4,
 "nbformat_minor": 5
}
