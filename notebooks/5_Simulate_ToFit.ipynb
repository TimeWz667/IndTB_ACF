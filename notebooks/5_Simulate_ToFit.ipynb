{
 "cells": [
  {
   "cell_type": "code",
   "execution_count": 1,
   "id": "dd189427",
   "metadata": {},
   "outputs": [],
   "source": [
    "import json\n",
    "import numpy as np\n",
    "import numpy.random as rd\n",
    "import pandas as pd\n",
    "from sim.dy.model_intv import Model"
   ]
  },
  {
   "cell_type": "code",
   "execution_count": 2,
   "id": "2c46fb3b",
   "metadata": {},
   "outputs": [],
   "source": [
    "m = Model()"
   ]
  },
  {
   "cell_type": "code",
   "execution_count": 3,
   "id": "18ab633f",
   "metadata": {},
   "outputs": [],
   "source": [
    "def sim_post(pars_post, n_collect=200):\n",
    "    idx = ['Prev', 'ARTI', 'PrDR_CNR', 'PrAsym', 'PrPreCS', 'PrExCS', 'IncR', 'MorR']\n",
    "\n",
    "    sel = rd.choice(len(pars_post), n_collect)\n",
    "    sel.sort()\n",
    "\n",
    "    mss = []\n",
    "\n",
    "    for i in sel:\n",
    "        pars = pars_post[i]\n",
    "\n",
    "        _, ms, _ = m.simulate(pars)\n",
    "        ms = ms[idx]\n",
    "        ms = ms.loc[ms.index >= 2015]\n",
    "        ms = ms.assign(Key=i)\n",
    "        mss.append(ms)\n",
    "        \n",
    "    return pd.concat(mss)"
   ]
  },
  {
   "cell_type": "code",
   "execution_count": 4,
   "id": "170ae3f3",
   "metadata": {},
   "outputs": [
    {
     "name": "stdout",
     "output_type": "stream",
     "text": [
      "dy_add\n",
      "dy_mul\n",
      "dy_ladd\n"
     ]
    }
   ],
   "source": [
    "for folder in [\n",
    "#     'dy_free', \n",
    "    'dy_add', \n",
    "    'dy_mul',\n",
    "    'dy_ladd'\n",
    "]:\n",
    "    print(folder)\n",
    "    out_path = f'out/{folder}'\n",
    "    pars_post = json.load(open(f'{out_path}/Post.json', 'r'))\n",
    "\n",
    "    mss = sim_post(pars_post, n_collect=200)\n",
    "    mss.to_csv(f'{out_path}/Sim_ToFit.csv')"
   ]
  },
  {
   "cell_type": "code",
   "execution_count": null,
   "id": "bc7209d2",
   "metadata": {},
   "outputs": [],
   "source": []
  }
 ],
 "metadata": {
  "kernelspec": {
   "display_name": "Python 3 (ipykernel)",
   "language": "python",
   "name": "python3"
  },
  "language_info": {
   "codemirror_mode": {
    "name": "ipython",
    "version": 3
   },
   "file_extension": ".py",
   "mimetype": "text/x-python",
   "name": "python",
   "nbconvert_exporter": "python",
   "pygments_lexer": "ipython3",
   "version": "3.10.5"
  }
 },
 "nbformat": 4,
 "nbformat_minor": 5
}
