{
 "cells": [
  {
   "cell_type": "code",
   "execution_count": 2,
   "id": "2275d519",
   "metadata": {},
   "outputs": [],
   "source": [
    "import json\n",
    "import matplotlib.pyplot as plt\n",
    "import numpy as np\n",
    "import pandas as pd\n",
    "from sim.dy.model_intv import ModelIntv\n",
    "import sim.dy.keys as I\n",
    "import numpy.random as rd"
   ]
  },
  {
   "cell_type": "code",
   "execution_count": 3,
   "id": "867819e6",
   "metadata": {},
   "outputs": [],
   "source": [
    "seed = 11667\n",
    "n_collect = 200\n",
    "cvs = np.concatenate([np.linspace(0, 0.2, 11), np.linspace(0.2, 0.5, 13)[1:]])\n",
    "coverage0 = 0.2\n",
    "\n",
    "folders = [\n",
    "#     'dy_hi', \n",
    "#     'dy_lo',\n",
    "    'dy_ladd'\n",
    "]"
   ]
  },
  {
   "cell_type": "code",
   "execution_count": 4,
   "id": "11e23d77",
   "metadata": {},
   "outputs": [],
   "source": [
    "def collect_fux(pars_post, coverage=coverage0, alg=\"VSC\"):    \n",
    "    m = ModelIntv()\n",
    "    \n",
    "    mss = list()\n",
    "    mss_stats = list()\n",
    "\n",
    "    for i, pars in enumerate(pars_post):\n",
    "        y1, pars = m.find_baseline(pars, 2022)\n",
    "\n",
    "        _, (ms, ms_stats), _ = m.simulate_onward(y1, pars, intv={}, polished=True)\n",
    "\n",
    "        ms = ms.reset_index().assign(Key=i, FollowUp=0, Duration=0)\n",
    "        mss.append(ms)\n",
    "        \n",
    "        ms_stats.update({'Key': i, 'Scenario': 'Baseline', 'FollowUp': 0, 'Duration': 0})\n",
    "        mss_stats.append(ms_stats)\n",
    "    \n",
    "        for n_fu in list(range(7)): # + [24, 30, 36]:\n",
    "            for dur in np.linspace(0, 4, 9):\n",
    "                intv = {'FullACF': {'Coverage': coverage, 'FollowUp': n_fu, 'Duration': dur, 'ScreenAlg': alg}}\n",
    "                \n",
    "                _, (ms, ms_stats), _ = m.simulate_onward(y1, pars, intv=intv, polished=True)\n",
    "                \n",
    "                ms = ms.reset_index().assign(Key=i, FollowUp=n_fu, Duration=dur)\n",
    "                mss.append(ms)\n",
    "\n",
    "                ms_stats.update({'Key': i, 'Scenario': 'Intervention', 'FollowUp': n_fu, 'Duration': dur})\n",
    "                mss_stats.append(ms_stats)\n",
    "            \n",
    "    mss = pd.concat(mss).assign(Coverage = coverage)\n",
    "    mss_stats = pd.DataFrame(mss_stats).assign(Coverage = coverage)\n",
    "    return mss, mss_stats"
   ]
  },
  {
   "cell_type": "code",
   "execution_count": null,
   "id": "7619c8c6",
   "metadata": {},
   "outputs": [
    {
     "name": "stdout",
     "output_type": "stream",
     "text": [
      "dy_ladd\n",
      "dy_ladd 0.1\n",
      "dy_ladd 0.2\n",
      "dy_ladd 0.5\n"
     ]
    }
   ],
   "source": [
    "for folder in folders:\n",
    "    print(folder)\n",
    "    for cov in [0.1, 0.2, 0.5]:\n",
    "        print(folder, cov)\n",
    "        \n",
    "        rd.seed(seed)\n",
    "        \n",
    "        out_path = f'out/{folder}'\n",
    "        pars_post = json.load(open(f'{out_path}/Post.json', 'r'))\n",
    "\n",
    "        sel = rd.choice(list(range(len(pars_post))), n_collect)\n",
    "        sel.sort()\n",
    "        pars_post = [pars_post[i] for i in sel]\n",
    "\n",
    "        mss, mss_stats = collect_fux(pars_post, coverage=cov)\n",
    "        mss_stats = mss_stats.fillna(0)\n",
    "        mss.to_csv(f'{out_path}/Sim_VulFu_fudur_{cov:.2f}.csv')\n",
    "        mss_stats.to_csv(f'{out_path}/Sim_VulFu_fudur_{cov:.2f}_stats.csv')"
   ]
  },
  {
   "cell_type": "code",
   "execution_count": null,
   "id": "d16077c3",
   "metadata": {},
   "outputs": [],
   "source": [
    "mss_stats"
   ]
  },
  {
   "cell_type": "code",
   "execution_count": null,
   "id": "f478280f",
   "metadata": {},
   "outputs": [],
   "source": []
  }
 ],
 "metadata": {
  "kernelspec": {
   "display_name": "Python 3 (ipykernel)",
   "language": "python",
   "name": "python3"
  },
  "language_info": {
   "codemirror_mode": {
    "name": "ipython",
    "version": 3
   },
   "file_extension": ".py",
   "mimetype": "text/x-python",
   "name": "python",
   "nbconvert_exporter": "python",
   "pygments_lexer": "ipython3",
   "version": "3.10.5"
  }
 },
 "nbformat": 4,
 "nbformat_minor": 5
}
