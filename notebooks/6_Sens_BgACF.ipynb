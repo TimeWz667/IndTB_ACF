{
 "cells": [
  {
   "cell_type": "code",
   "execution_count": 1,
   "id": "dd189427",
   "metadata": {},
   "outputs": [],
   "source": [
    "import json\n",
    "import matplotlib.pyplot as plt\n",
    "import numpy as np\n",
    "import numpy.random as rd\n",
    "import pandas as pd\n",
    "from sim.dy.model_intv import ModelIntv\n",
    "import sim.dy.keys as I\n"
   ]
  },
  {
   "cell_type": "code",
   "execution_count": 2,
   "id": "2c46fb3b",
   "metadata": {},
   "outputs": [],
   "source": [
    "m = ModelIntv()\n",
    "n_collect = 200\n",
    "seed = 11667\n",
    "rd.seed(seed)"
   ]
  },
  {
   "cell_type": "code",
   "execution_count": 3,
   "id": "172c6e6b",
   "metadata": {},
   "outputs": [],
   "source": [
    "out_path = f'out/dy_ladd'\n",
    "pars_post = json.load(open(f'{out_path}/Post.json', 'r'))\n",
    "sel = rd.choice(list(range(len(pars_post))), n_collect)\n",
    "sel.sort()\n",
    "pars_post = [pars_post[i] for i in sel]\n",
    "\n",
    "cov_bg = json.load(open(f'{out_path}/CoverageBg.json', 'r'))"
   ]
  },
  {
   "cell_type": "code",
   "execution_count": 4,
   "id": "4333618a",
   "metadata": {},
   "outputs": [],
   "source": [
    "intv00 = {}\n",
    "intv01 = {'FullACF': cov_bg['MDU']['M']}\n",
    "intv10 = {'AltACF': cov_bg['D2D']['M']}\n",
    "intv11 = {'FullACF': cov_bg['MDU']['M'], 'AltACF': cov_bg['D2D']['M']}\n",
    "\n",
    "intv2x = {k: dict(v) for k, v in intv11.items()}\n",
    "for v in intv2x.values():\n",
    "    v['Coverage'] *= 2\n",
    "intv4x = {k: dict(v) for k, v in intv11.items()}\n",
    "for v in intv4x.values():\n",
    "    v['Coverage'] *= 4"
   ]
  },
  {
   "cell_type": "code",
   "execution_count": 5,
   "id": "76adcc1e",
   "metadata": {},
   "outputs": [],
   "source": [
    "y1p = [m.find_baseline(p, 2022) for i, p in enumerate(pars_post)]"
   ]
  },
  {
   "cell_type": "code",
   "execution_count": 6,
   "id": "0535595c",
   "metadata": {},
   "outputs": [],
   "source": [
    "results = list()\n",
    "\n",
    "for i, (y1, p) in enumerate(y1p):\n",
    "    _, (_, ms00), _ = m.simulate_onward(y1, p, intv=intv00, polished=True)\n",
    "    _, (_, ms01), _ = m.simulate_onward(y1, p, intv=intv01, polished=True)\n",
    "    _, (_, ms10), _ = m.simulate_onward(y1, p, intv=intv10, polished=True)\n",
    "    _, (_, ms11), _ = m.simulate_onward(y1, p, intv=intv11, polished=True)\n",
    "    \n",
    "    results.append({\n",
    "        'Key': i,\n",
    "        'Avt_MDU': 1 - ms01['Inc'] / ms00['Inc'],\n",
    "        'Avt_D2D': 1 - ms10['Inc'] / ms00['Inc'],\n",
    "        'Avt_MDU+D2D': 1 - ms11['Inc'] / ms00['Inc'],\n",
    "    })\n",
    "    \n",
    "results = pd.DataFrame(results)"
   ]
  },
  {
   "cell_type": "code",
   "execution_count": 7,
   "id": "8861b13a",
   "metadata": {},
   "outputs": [
    {
     "data": {
      "text/html": [
       "<div>\n",
       "<style scoped>\n",
       "    .dataframe tbody tr th:only-of-type {\n",
       "        vertical-align: middle;\n",
       "    }\n",
       "\n",
       "    .dataframe tbody tr th {\n",
       "        vertical-align: top;\n",
       "    }\n",
       "\n",
       "    .dataframe thead th {\n",
       "        text-align: right;\n",
       "    }\n",
       "</style>\n",
       "<table border=\"1\" class=\"dataframe\">\n",
       "  <thead>\n",
       "    <tr style=\"text-align: right;\">\n",
       "      <th></th>\n",
       "      <th>Key</th>\n",
       "      <th>Avt_MDU</th>\n",
       "      <th>Avt_D2D</th>\n",
       "      <th>Avt_MDU+D2D</th>\n",
       "    </tr>\n",
       "  </thead>\n",
       "  <tbody>\n",
       "    <tr>\n",
       "      <th>count</th>\n",
       "      <td>200.000000</td>\n",
       "      <td>200.000000</td>\n",
       "      <td>200.000000</td>\n",
       "      <td>200.000000</td>\n",
       "    </tr>\n",
       "    <tr>\n",
       "      <th>mean</th>\n",
       "      <td>99.500000</td>\n",
       "      <td>0.008757</td>\n",
       "      <td>0.003743</td>\n",
       "      <td>0.012338</td>\n",
       "    </tr>\n",
       "    <tr>\n",
       "      <th>std</th>\n",
       "      <td>57.879185</td>\n",
       "      <td>0.002639</td>\n",
       "      <td>0.002200</td>\n",
       "      <td>0.004665</td>\n",
       "    </tr>\n",
       "    <tr>\n",
       "      <th>min</th>\n",
       "      <td>0.000000</td>\n",
       "      <td>0.004591</td>\n",
       "      <td>0.000919</td>\n",
       "      <td>0.005520</td>\n",
       "    </tr>\n",
       "    <tr>\n",
       "      <th>25%</th>\n",
       "      <td>49.750000</td>\n",
       "      <td>0.006723</td>\n",
       "      <td>0.002002</td>\n",
       "      <td>0.008669</td>\n",
       "    </tr>\n",
       "    <tr>\n",
       "      <th>50%</th>\n",
       "      <td>99.500000</td>\n",
       "      <td>0.008231</td>\n",
       "      <td>0.003136</td>\n",
       "      <td>0.011320</td>\n",
       "    </tr>\n",
       "    <tr>\n",
       "      <th>75%</th>\n",
       "      <td>149.250000</td>\n",
       "      <td>0.010489</td>\n",
       "      <td>0.004943</td>\n",
       "      <td>0.015206</td>\n",
       "    </tr>\n",
       "    <tr>\n",
       "      <th>max</th>\n",
       "      <td>199.000000</td>\n",
       "      <td>0.015602</td>\n",
       "      <td>0.010503</td>\n",
       "      <td>0.025217</td>\n",
       "    </tr>\n",
       "  </tbody>\n",
       "</table>\n",
       "</div>"
      ],
      "text/plain": [
       "              Key     Avt_MDU     Avt_D2D  Avt_MDU+D2D\n",
       "count  200.000000  200.000000  200.000000   200.000000\n",
       "mean    99.500000    0.008757    0.003743     0.012338\n",
       "std     57.879185    0.002639    0.002200     0.004665\n",
       "min      0.000000    0.004591    0.000919     0.005520\n",
       "25%     49.750000    0.006723    0.002002     0.008669\n",
       "50%     99.500000    0.008231    0.003136     0.011320\n",
       "75%    149.250000    0.010489    0.004943     0.015206\n",
       "max    199.000000    0.015602    0.010503     0.025217"
      ]
     },
     "execution_count": 7,
     "metadata": {},
     "output_type": "execute_result"
    }
   ],
   "source": [
    "results.describe()"
   ]
  },
  {
   "cell_type": "code",
   "execution_count": 8,
   "id": "417a5baa",
   "metadata": {},
   "outputs": [],
   "source": [
    "results.to_csv(f'{out_path}/Sim_BgACF_IncrementalAverted.csv')"
   ]
  },
  {
   "cell_type": "code",
   "execution_count": 11,
   "id": "d4d9f34d",
   "metadata": {},
   "outputs": [],
   "source": [
    "mss = list()\n",
    "mss_stats = list()\n",
    "\n",
    "for i, (y1, p) in enumerate(y1p):\n",
    "    _, ms0, _ = m.simulate_onward(y1, p, intv=intv00, polished=True)\n",
    "    _, ms1, _ = m.simulate_onward(y1, p, intv=intv11, polished=True)\n",
    "    _, ms2, _ = m.simulate_onward(y1, p, intv=intv2x, polished=True)\n",
    "    _, ms4, _ = m.simulate_onward(y1, p, intv=intv4x, polished=True)\n",
    "\n",
    "    mss.append(pd.concat([\n",
    "        ms0[0].reset_index().assign(Key=i, Scale='Baseline'),\n",
    "        ms1[0].reset_index().assign(Key=i, Scale='1x'),\n",
    "        ms2[0].reset_index().assign(Key=i, Scale='2x'),\n",
    "        ms4[0].reset_index().assign(Key=i, Scale='4x')\n",
    "    ]))\n",
    "    \n",
    "    ms0[1].update({'Key': i, 'Scale': 'Baseline'})\n",
    "    ms1[1].update({'Key': i, 'Scale': '1x'})\n",
    "    ms2[1].update({'Key': i, 'Scale': '2x'})\n",
    "    ms4[1].update({'Key': i, 'Scale': '4x'})\n",
    "    mss_stats += [ms0[1], ms1[1], ms2[1], ms4[1]]\n",
    "    "
   ]
  },
  {
   "cell_type": "code",
   "execution_count": 12,
   "id": "05246cc7",
   "metadata": {},
   "outputs": [],
   "source": [
    "mss = pd.concat(mss)\n",
    "mss_stats = pd.DataFrame(mss_stats)"
   ]
  },
  {
   "cell_type": "code",
   "execution_count": 13,
   "id": "702008aa",
   "metadata": {},
   "outputs": [],
   "source": [
    "mss.to_csv(f'{out_path}/Sim_BgACF_ScaleUp.csv')\n",
    "mss_stats.to_csv(f'{out_path}/Sim_BgACF_ScaleUp_Stats.csv')"
   ]
  },
  {
   "cell_type": "code",
   "execution_count": null,
   "id": "45435055",
   "metadata": {},
   "outputs": [],
   "source": []
  }
 ],
 "metadata": {
  "kernelspec": {
   "display_name": "Python 3 (ipykernel)",
   "language": "python",
   "name": "python3"
  },
  "language_info": {
   "codemirror_mode": {
    "name": "ipython",
    "version": 3
   },
   "file_extension": ".py",
   "mimetype": "text/x-python",
   "name": "python",
   "nbconvert_exporter": "python",
   "pygments_lexer": "ipython3",
   "version": "3.10.5"
  }
 },
 "nbformat": 4,
 "nbformat_minor": 5
}
