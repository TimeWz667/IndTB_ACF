{
 "cells": [
  {
   "cell_type": "code",
   "execution_count": 7,
   "id": "255612a8",
   "metadata": {},
   "outputs": [],
   "source": [
    "import json\n",
    "import matplotlib.pyplot as plt\n",
    "import numpy as np\n",
    "import pandas as pd\n",
    "from sim.dy.model_intv import ModelIntv\n",
    "import sim.dy.keys as I"
   ]
  },
  {
   "cell_type": "code",
   "execution_count": 2,
   "id": "2e1cf7ed",
   "metadata": {},
   "outputs": [],
   "source": [
    "m = ModelIntv()"
   ]
  },
  {
   "cell_type": "code",
   "execution_count": 3,
   "id": "5ebc0fe3",
   "metadata": {},
   "outputs": [],
   "source": [
    "out_path = f'out/dy_free'\n",
    "pars_post = json.load(open(f'{out_path}/Post.json', 'r'))"
   ]
  },
  {
   "cell_type": "code",
   "execution_count": 8,
   "id": "cb632b58",
   "metadata": {},
   "outputs": [],
   "source": [
    "r_acf = []\n",
    "\n",
    "for p in pars_post:\n",
    "    _, pa = m.find_baseline(p, 2022)\n",
    "    r_acf.append({'r_acf_mu': pa['r_acf_mu'], 'r_acf_d2d': pa['r_acf_d2d']})\n",
    "    \n",
    "r_acf = {\n",
    "    'r_acf_mu': np.mean([r['r_acf_mu'] for r in r_acf]), \n",
    "    'r_acf_d2d': np.mean([r['r_acf_d2d'] for r in r_acf])\n",
    "}\n",
    "\n",
    "for p in pars_post:\n",
    "    p.update(r_acf)"
   ]
  },
  {
   "cell_type": "code",
   "execution_count": 32,
   "id": "775fe45b",
   "metadata": {},
   "outputs": [],
   "source": [
    "with open(f'{out_path}/R_ACF_Bg.json', 'w') as f:\n",
    "    json.dump(r_acf, f)"
   ]
  }
 ],
 "metadata": {
  "kernelspec": {
   "display_name": "Python 3 (ipykernel)",
   "language": "python",
   "name": "python3"
  },
  "language_info": {
   "codemirror_mode": {
    "name": "ipython",
    "version": 3
   },
   "file_extension": ".py",
   "mimetype": "text/x-python",
   "name": "python",
   "nbconvert_exporter": "python",
   "pygments_lexer": "ipython3",
   "version": "3.10.5"
  }
 },
 "nbformat": 4,
 "nbformat_minor": 5
}
