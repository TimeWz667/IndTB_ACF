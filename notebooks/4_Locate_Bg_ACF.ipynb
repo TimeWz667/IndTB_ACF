{
 "cells": [
  {
   "cell_type": "code",
   "execution_count": 1,
   "id": "255612a8",
   "metadata": {},
   "outputs": [],
   "source": [
    "import json\n",
    "import matplotlib.pyplot as plt\n",
    "import numpy as np\n",
    "import numpy.random as rd\n",
    "from scipy.optimize import minimize_scalar\n",
    "import pandas as pd\n",
    "from sim.dy.model_intv import ModelIntv\n",
    "import sim.dy.keys as I"
   ]
  },
  {
   "cell_type": "code",
   "execution_count": 2,
   "id": "021fce3f",
   "metadata": {},
   "outputs": [],
   "source": [
    "seed = 11667\n",
    "n_test = 200\n",
    "\n",
    "m = ModelIntv()\n",
    "\n",
    "folders = [\n",
    "    'dy_ladd',\n",
    "#     'dy_add', \n",
    "#     'dy_mul'\n",
    "]"
   ]
  },
  {
   "cell_type": "code",
   "execution_count": 3,
   "id": "620eec39",
   "metadata": {},
   "outputs": [
    {
     "data": {
      "text/plain": [
       "(0.00014333333333333334, 3.483333333333333e-05)"
      ]
     },
     "execution_count": 3,
     "metadata": {},
     "output_type": "execute_result"
    }
   ],
   "source": [
    "tar = json.load(open('data/targets_acf.json', 'r'))\n",
    "tar_mdu = tar['MDU'] / tar['Pop']\n",
    "tar_d2d = tar['D2D'] / tar['Pop']\n",
    "tar_mdu, tar_d2d"
   ]
  },
  {
   "cell_type": "code",
   "execution_count": 4,
   "id": "ad2ccd31",
   "metadata": {},
   "outputs": [],
   "source": [
    "intv_mdu = {'Year0': 2022, 'ScreenAlg': 'SyCx'}\n",
    "intv_d2d = {'Year0': 2022, 'ScreenAlg': 'Sy'}"
   ]
  },
  {
   "cell_type": "code",
   "execution_count": 5,
   "id": "c54dbbfb",
   "metadata": {},
   "outputs": [],
   "source": [
    "def find_bg_coverage(pars_post):\n",
    "    def fn(x, src, yld, y0, p):\n",
    "        intv = {'FullACF': {'Coverage': x, 'Year0': src['Year0'], 'ScreenAlg': src['ScreenAlg']}}\n",
    "        _, (ms, _), _ = m.simulate_onward(y0, p, intv, polished=True)\n",
    "        return (ms.ACF_Yield[2022] - yld) ** 2\n",
    "\n",
    "\n",
    "    x_mdu, x_d2d = np.zeros(len(pars_post)), np.zeros(len(pars_post))\n",
    "\n",
    "    for i, p in enumerate(pars_post):\n",
    "        y0, p = m.find_baseline(p)\n",
    "        sol = minimize_scalar(fn, bounds=(0, 0.5), \n",
    "                              args=(intv_mdu, tar_mdu, y0, p, ), method='bounded')\n",
    "        x_mdu[i] = sol.x\n",
    "\n",
    "        sol = minimize_scalar(fn, bounds=(0, 0.5), \n",
    "                              args=(intv_d2d, tar_d2d, y0, p, ), method='bounded')\n",
    "        x_d2d[i] = sol.x\n",
    "\n",
    "    x_mdu = np.quantile(x_mdu, [0.025, 0.5, 0.975])\n",
    "    x_d2d = np.quantile(x_d2d, [0.025, 0.5, 0.975])\n",
    "\n",
    "    mdu_l = {'Coverage': x_mdu[0], 'Year0': intv_mdu['Year0'], 'ScreenAlg': intv_mdu['ScreenAlg']}\n",
    "    mdu_m = {'Coverage': x_mdu[1], 'Year0': intv_mdu['Year0'], 'ScreenAlg': intv_mdu['ScreenAlg']}\n",
    "    mdu_u = {'Coverage': x_mdu[2], 'Year0': intv_mdu['Year0'], 'ScreenAlg': intv_mdu['ScreenAlg']}\n",
    "    \n",
    "    d2d_l = {'Coverage': x_d2d[0], 'Year0': intv_d2d['Year0'], 'ScreenAlg': intv_d2d['ScreenAlg']}\n",
    "    d2d_m = {'Coverage': x_d2d[1], 'Year0': intv_d2d['Year0'], 'ScreenAlg': intv_d2d['ScreenAlg']}\n",
    "    d2d_u = {'Coverage': x_d2d[2], 'Year0': intv_d2d['Year0'], 'ScreenAlg': intv_d2d['ScreenAlg']}\n",
    "    return {\n",
    "        'MDU': {'L': mdu_l, 'M': mdu_m, 'U': mdu_u}, \n",
    "        'D2D': {'L': d2d_l, 'M': d2d_m, 'U': d2d_u}\n",
    "    }\n"
   ]
  },
  {
   "cell_type": "code",
   "execution_count": 6,
   "id": "5ebc0fe3",
   "metadata": {},
   "outputs": [
    {
     "name": "stdout",
     "output_type": "stream",
     "text": [
      "dy_ladd\n"
     ]
    }
   ],
   "source": [
    "for folder in folders:\n",
    "    print(folder)\n",
    "    out_path = f'out/{folder}'\n",
    "    pars_post = json.load(open(f'{out_path}/Post.json', 'r'))\n",
    "    sel = rd.choice(list(range(len(pars_post))), n_test)\n",
    "    sel.sort()\n",
    "    pars_post = [pars_post[i] for i in sel]\n",
    "    \n",
    "    cov_bg = find_bg_coverage(pars_post)\n",
    "\n",
    "    with open(f'{out_path}/CoverageBg.json', 'w') as f:\n",
    "        json.dump(cov_bg, f)"
   ]
  },
  {
   "cell_type": "code",
   "execution_count": 7,
   "id": "846b1b74",
   "metadata": {},
   "outputs": [
    {
     "data": {
      "text/plain": [
       "{'MDU': {'L': {'Coverage': 0.007281449372048281,\n",
       "   'Year0': 2022,\n",
       "   'ScreenAlg': 'SyCx'},\n",
       "  'M': {'Coverage': 0.0146291137642422, 'Year0': 2022, 'ScreenAlg': 'SyCx'},\n",
       "  'U': {'Coverage': 0.03343824885178595, 'Year0': 2022, 'ScreenAlg': 'SyCx'}},\n",
       " 'D2D': {'L': {'Coverage': 0.010430593136556218,\n",
       "   'Year0': 2022,\n",
       "   'ScreenAlg': 'Sy'},\n",
       "  'M': {'Coverage': 0.017848157250812055, 'Year0': 2022, 'ScreenAlg': 'Sy'},\n",
       "  'U': {'Coverage': 0.032307994466955405, 'Year0': 2022, 'ScreenAlg': 'Sy'}}}"
      ]
     },
     "execution_count": 7,
     "metadata": {},
     "output_type": "execute_result"
    }
   ],
   "source": [
    "cov_bg"
   ]
  }
 ],
 "metadata": {
  "kernelspec": {
   "display_name": "Python 3 (ipykernel)",
   "language": "python",
   "name": "python3"
  },
  "language_info": {
   "codemirror_mode": {
    "name": "ipython",
    "version": 3
   },
   "file_extension": ".py",
   "mimetype": "text/x-python",
   "name": "python",
   "nbconvert_exporter": "python",
   "pygments_lexer": "ipython3",
   "version": "3.10.5"
  }
 },
 "nbformat": 4,
 "nbformat_minor": 5
}
