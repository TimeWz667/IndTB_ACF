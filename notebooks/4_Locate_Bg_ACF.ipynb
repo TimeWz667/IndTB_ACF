{
 "cells": [
  {
   "cell_type": "code",
   "execution_count": 1,
   "id": "255612a8",
   "metadata": {},
   "outputs": [],
   "source": [
    "import json\n",
    "import matplotlib.pyplot as plt\n",
    "import numpy as np\n",
    "import pandas as pd\n",
    "from sim.dy.model_intv import ModelIntv\n",
    "import sim.dy.keys as I"
   ]
  },
  {
   "cell_type": "code",
   "execution_count": 2,
   "id": "c54dbbfb",
   "metadata": {},
   "outputs": [],
   "source": [
    "def get_r_acf(pars_post):\n",
    "    r_acf = []\n",
    "\n",
    "    for p in pars_post:\n",
    "        _, pa = m.find_baseline(p, 2022)\n",
    "\n",
    "        r_acf.append({'r_acf_mdu': pa['r_acf_mdu'], 'r_acf_d2d': pa['r_acf_d2d'], 'acf_sym_spec': pa['acf_sym_spec']})\n",
    "\n",
    "\n",
    "    return {\n",
    "        'r_acf_mu': np.mean([r['r_acf_mdu'] for r in r_acf]), \n",
    "        'r_acf_d2d': np.mean([r['r_acf_d2d'] for r in r_acf]),\n",
    "        'acf_sym_spec': np.mean([r['acf_sym_spec'] for r in r_acf]),\n",
    "    }"
   ]
  },
  {
   "cell_type": "code",
   "execution_count": 3,
   "id": "2e1cf7ed",
   "metadata": {},
   "outputs": [],
   "source": [
    "m = ModelIntv()"
   ]
  },
  {
   "cell_type": "code",
   "execution_count": 4,
   "id": "5ebc0fe3",
   "metadata": {},
   "outputs": [
    {
     "name": "stdout",
     "output_type": "stream",
     "text": [
      "dy_ladd\n"
     ]
    }
   ],
   "source": [
    "for folder in [\n",
    "    'dy_ladd',\n",
    "#     'dy_lo', \n",
    "#     'dy_hi'\n",
    "]:\n",
    "# for folder in ['dy_free', 'dy_lo', 'dy_hi']:\n",
    "    print(folder)\n",
    "    out_path = f'out/{folder}'\n",
    "    pars_post = json.load(open(f'{out_path}/Post.json', 'r'))\n",
    "    r_acf = get_r_acf(pars_post[:200])\n",
    "\n",
    "    with open(f'{out_path}/R_ACF_Bg.json', 'w') as f:\n",
    "        json.dump(r_acf, f)"
   ]
  },
  {
   "cell_type": "code",
   "execution_count": null,
   "id": "bf88037d",
   "metadata": {},
   "outputs": [],
   "source": []
  }
 ],
 "metadata": {
  "kernelspec": {
   "display_name": "Python 3 (ipykernel)",
   "language": "python",
   "name": "python3"
  },
  "language_info": {
   "codemirror_mode": {
    "name": "ipython",
    "version": 3
   },
   "file_extension": ".py",
   "mimetype": "text/x-python",
   "name": "python",
   "nbconvert_exporter": "python",
   "pygments_lexer": "ipython3",
   "version": "3.10.5"
  }
 },
 "nbformat": 4,
 "nbformat_minor": 5
}
