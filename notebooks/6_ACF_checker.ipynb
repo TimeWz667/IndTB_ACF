{
 "cells": [
  {
   "cell_type": "code",
   "execution_count": 19,
   "id": "ee6d21bf",
   "metadata": {},
   "outputs": [],
   "source": [
    "import numpy as np\n",
    "import pandas as pd"
   ]
  },
  {
   "cell_type": "code",
   "execution_count": 20,
   "id": "d97ea130",
   "metadata": {},
   "outputs": [
    {
     "data": {
      "text/plain": [
       "{'NonTB': array([0.05777707, 0.01008167]),\n",
       " 'TBLike': array([0.00178692, 0.0003118 ]),\n",
       " 'LTBI': array([0.02238354, 0.00730007]),\n",
       " 'Asym': array([0.00013407, 0.00010711]),\n",
       " 'Sym': array([6.51329722e-05, 5.26085031e-05])}"
      ]
     },
     "execution_count": 20,
     "metadata": {},
     "output_type": "execute_result"
    }
   ],
   "source": [
    "pop = {\n",
    "    'NonTB': np.array([0.58453037, 0.10199624]),\n",
    "    'TBLike': np.array([0.01807826, 0.00315452]),\n",
    "    'LTBI': np.array([0.2264542, 0.0738548]),\n",
    "    'Asym': np.array([0.00135638, 0.00108361]),\n",
    "    'Sym': np.array([0.00065895, 0.00053224]),\n",
    "}\n",
    "\n",
    "n = sum([v.sum() for v in pop.values()])\n",
    "\n",
    "coverage = 0.1\n",
    "pop = {k: v / n * coverage  for k, v in pop.items()}\n",
    "pop"
   ]
  },
  {
   "cell_type": "code",
   "execution_count": 21,
   "id": "2d4c49f1",
   "metadata": {},
   "outputs": [],
   "source": [
    "def sym():\n",
    "    return {\n",
    "        'NonTB': 0, 'TBLike': 1, 'LTBI': 0, \n",
    "        'Asym': 0, 'Sym': 1\n",
    "    }\n",
    "\n",
    "\n",
    "def xpert(sens=0.92, spec=0.99):\n",
    "    return {\n",
    "        'NonTB': (1 - spec), 'TBLike': (1 - spec),\n",
    "        'LTBI': (1 - spec), \n",
    "        'Asym': sens, 'Sym': sens\n",
    "    }\n",
    "\n",
    "\n",
    "def cxr(sens=0.98, spec=0.75):\n",
    "    return {\n",
    "        'NonTB': (1 - spec), 'TBLike': (1 - spec), 'LTBI': (1 - spec),\n",
    "        'Asym': sens, 'Sym': sens\n",
    "    }\n",
    "\n",
    "\n",
    "def vul():\n",
    "    return {\n",
    "        'NonTB': np.array([0, 1]), 'TBLike': np.array([0, 1]), 'LTBI': np.array([0, 1]),\n",
    "        'Asym': np.array([0, 1]), 'Sym': np.array([0, 1])\n",
    "    }\n",
    "\n"
   ]
  },
  {
   "cell_type": "code",
   "execution_count": 31,
   "id": "3d2b7ce3",
   "metadata": {},
   "outputs": [],
   "source": [
    "def And(tool1, tool2):\n",
    "    return {k: v1 * tool2[k] for k, v1 in tool1.items()}\n",
    "\n",
    "def Not(tool):\n",
    "    return {k: 1 - v for k, v in tool.items()}\n",
    "\n",
    "def Or(tool1, tool2):\n",
    "    return {k: 1 - (1 - v1) * (1 - tool2[k]) for k, v1 in tool1.items()}\n",
    "\n",
    "def Plus(tool1, tool2):\n",
    "    return {k: v1 + tool2[k] for k, v1 in tool1.items()}\n",
    "\n",
    "def run(pop, alg):\n",
    "    yld = {k: n * alg[k] for k, n in pop.items()}\n",
    "    \n",
    "    n_yld = sum([v.sum() for v in yld.values()])\n",
    "    n_tp = yld['Asym'].sum() + yld['Sym'].sum()\n",
    "    \n",
    "    n_tpt = yld['LTBI'].sum()\n",
    "    return {\n",
    "        'Yields': n_yld * 1e5,\n",
    "        'TP': n_tp * 1e5,\n",
    "        'PPV': n_tp / n_yld,\n",
    "        'OnTPT': n_tpt * 1e5,\n",
    "        #'Pos': yld\n",
    "    }"
   ]
  },
  {
   "cell_type": "code",
   "execution_count": 32,
   "id": "90e4ea00",
   "metadata": {},
   "outputs": [],
   "source": [
    "Sym, CXR, Xpert, Vul = sym(), cxr(), xpert(), vul()"
   ]
  },
  {
   "cell_type": "code",
   "execution_count": 33,
   "id": "02c0f4b4",
   "metadata": {},
   "outputs": [
    {
     "data": {
      "text/plain": [
       "{'Yields': 59.061076886688845,\n",
       " 'TP': 32.57676371257132,\n",
       " 'PPV': 0.5515775436176217,\n",
       " 'OnTPT': 7.420903618650355}"
      ]
     },
     "execution_count": 33,
     "metadata": {},
     "output_type": "execute_result"
    }
   ],
   "source": [
    "run(pop, And(Or(Sym, CXR), Xpert))"
   ]
  },
  {
   "cell_type": "code",
   "execution_count": 34,
   "id": "a892fb45",
   "metadata": {},
   "outputs": [
    {
     "data": {
      "text/plain": [
       "{'Yields': 12.93093956736584,\n",
       " 'TP': 10.832215733767688,\n",
       " 'PPV': 0.8376974988813065,\n",
       " 'OnTPT': 0.0}"
      ]
     },
     "execution_count": 34,
     "metadata": {},
     "output_type": "execute_result"
    }
   ],
   "source": [
    "run(pop, And(Sym, Xpert))"
   ]
  },
  {
   "cell_type": "code",
   "execution_count": 35,
   "id": "1ffe9f3e",
   "metadata": {},
   "outputs": [
    {
     "data": {
      "text/plain": [
       "{'Yields': 26.933222636439407,\n",
       " 'TP': 20.489062538595334,\n",
       " 'PPV': 0.7607356466461083,\n",
       " 'OnTPT': 1.825018073300162}"
      ]
     },
     "execution_count": 35,
     "metadata": {},
     "output_type": "execute_result"
    }
   ],
   "source": [
    "run(pop,  \n",
    "    And(\n",
    "        Plus(Sym, And(And(Vul, Not(Sym)), CXR)), \n",
    "        Xpert\n",
    "    ))"
   ]
  },
  {
   "cell_type": "code",
   "execution_count": 36,
   "id": "77166902",
   "metadata": {},
   "outputs": [
    {
     "data": {
      "text/plain": [
       "{'Yields': 40.16660993539815,\n",
       " 'TP': 20.686141044816306,\n",
       " 'PPV': 0.5150083882629577,\n",
       " 'OnTPT': 7.300072293200648}"
      ]
     },
     "execution_count": 36,
     "metadata": {},
     "output_type": "execute_result"
    }
   ],
   "source": [
    "run(pop,  \n",
    "    And(\n",
    "        Or(Sym, Vul), \n",
    "        Xpert\n",
    "    ))"
   ]
  },
  {
   "cell_type": "code",
   "execution_count": 39,
   "id": "0b1eda6e",
   "metadata": {},
   "outputs": [
    {
     "data": {
      "text/plain": [
       "{'Yields': 132.66161119352867,\n",
       " 'TP': 33.020529997853025,\n",
       " 'PPV': 0.2489079523516581,\n",
       " 'OnTPT': 29.68361447460142}"
      ]
     },
     "execution_count": 39,
     "metadata": {},
     "output_type": "execute_result"
    }
   ],
   "source": [
    "run(pop, Xpert)"
   ]
  }
 ],
 "metadata": {
  "kernelspec": {
   "display_name": "Python 3 (ipykernel)",
   "language": "python",
   "name": "python3"
  },
  "language_info": {
   "codemirror_mode": {
    "name": "ipython",
    "version": 3
   },
   "file_extension": ".py",
   "mimetype": "text/x-python",
   "name": "python",
   "nbconvert_exporter": "python",
   "pygments_lexer": "ipython3",
   "version": "3.10.5"
  }
 },
 "nbformat": 4,
 "nbformat_minor": 5
}
