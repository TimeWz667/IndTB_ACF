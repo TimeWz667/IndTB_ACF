{
 "cells": [
  {
   "cell_type": "code",
   "execution_count": 1,
   "id": "2275d519",
   "metadata": {},
   "outputs": [],
   "source": [
    "import json\n",
    "import matplotlib.pyplot as plt\n",
    "import numpy as np\n",
    "import pandas as pd\n",
    "from sim.dy.model_intv import ModelIntv\n",
    "import sim.dy.keys as I\n",
    "import numpy.random as rd"
   ]
  },
  {
   "cell_type": "code",
   "execution_count": 2,
   "id": "867819e6",
   "metadata": {},
   "outputs": [],
   "source": [
    "seed = 11667\n",
    "n_collect = 200\n",
    "cvs = np.concatenate([np.linspace(0, 0.2, 11), np.linspace(0.2, 0.5, 13)[1:]])\n",
    "coverage0 = 0.2\n",
    "\n",
    "folders = [\n",
    "    'dy_mul', \n",
    "    'dy_add',\n",
    "    'dy_ladd'\n",
    "]"
   ]
  },
  {
   "cell_type": "code",
   "execution_count": 3,
   "id": "48fd445b",
   "metadata": {},
   "outputs": [],
   "source": [
    "def collect_vul(pars_post, coverages=np.linspace(0, 0.8, 33), alg='VSC'):    \n",
    "    m = ModelIntv()\n",
    "\n",
    "    mss = list()\n",
    "    mss_stats = list()\n",
    "\n",
    "    for i, pars in enumerate(pars_post):\n",
    "        y1, pars = m.find_baseline(pars, 2022)\n",
    "\n",
    "        for k in coverages:    \n",
    "            _, (ms, ms_stats), _ = m.simulate_onward(y1, pars, \n",
    "                                                     intv={'FullACF': {'Coverage': k, 'ScreenAlg': alg}}, polished=True)\n",
    "\n",
    "            ms_stats.update({'Key': i, 'Coverage': k})            \n",
    "            mss_stats.append(ms_stats)\n",
    "            \n",
    "            ms = ms.assign(Key=i, Coverage=k)\n",
    "            mss.append(ms)\n",
    "            \n",
    "    mss = pd.concat(mss).assign(Alg=alg)\n",
    "    mss_stats = pd.DataFrame(mss_stats).assign(Alg=alg)\n",
    "    return mss, mss_stats\n"
   ]
  },
  {
   "cell_type": "code",
   "execution_count": null,
   "id": "fece796d",
   "metadata": {},
   "outputs": [
    {
     "name": "stdout",
     "output_type": "stream",
     "text": [
      "dy_mul\n",
      "dy_add\n",
      "dy_ladd\n"
     ]
    }
   ],
   "source": [
    "for folder in folders:\n",
    "    rd.seed(seed)\n",
    "    \n",
    "    print(folder)\n",
    "    out_path = f'out/{folder}'\n",
    "    pars_post = json.load(open(f'{out_path}/Post.json', 'r'))\n",
    "    \n",
    "    sel = rd.choice(list(range(len(pars_post))), n_collect)\n",
    "    sel.sort()\n",
    "    \n",
    "    pars_post = [pars_post[i] for i in sel]\n",
    "\n",
    "    mss0, mss_stats0 = collect_vul(pars_post, alg='VSC', coverages=cvs)\n",
    "    mss1, mss_stats1 = collect_vul(pars_post, alg='Sy', coverages=cvs)\n",
    "    mss2, mss_stats2 = collect_vul(pars_post, alg='SyCx', coverages=cvs)\n",
    "\n",
    "    mss = pd.concat([mss0, mss1, mss2])\n",
    "    mss_stats = pd.concat([mss_stats0, mss_stats1, mss_stats2])\n",
    "    mss.to_csv(f'{out_path}/Sim_VulACF_budget.csv')\n",
    "    mss_stats.to_csv(f'{out_path}/Sim_VulACF_budget_stats.csv')"
   ]
  },
  {
   "cell_type": "code",
   "execution_count": null,
   "id": "a0d4af3b",
   "metadata": {},
   "outputs": [],
   "source": []
  }
 ],
 "metadata": {
  "kernelspec": {
   "display_name": "Python 3 (ipykernel)",
   "language": "python",
   "name": "python3"
  },
  "language_info": {
   "codemirror_mode": {
    "name": "ipython",
    "version": 3
   },
   "file_extension": ".py",
   "mimetype": "text/x-python",
   "name": "python",
   "nbconvert_exporter": "python",
   "pygments_lexer": "ipython3",
   "version": "3.10.5"
  }
 },
 "nbformat": 4,
 "nbformat_minor": 5
}
