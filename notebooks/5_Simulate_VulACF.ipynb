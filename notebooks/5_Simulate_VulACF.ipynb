{
 "cells": [
  {
   "cell_type": "code",
   "execution_count": 1,
   "id": "2275d519",
   "metadata": {},
   "outputs": [],
   "source": [
    "import json\n",
    "import matplotlib.pyplot as plt\n",
    "import numpy as np\n",
    "import pandas as pd\n",
    "from sim.dy.model_intv import ModelIntv\n",
    "import sim.dy.keys as I\n",
    "import numpy.random as rd"
   ]
  },
  {
   "cell_type": "code",
   "execution_count": 2,
   "id": "867819e6",
   "metadata": {},
   "outputs": [],
   "source": [
    "n_collect = 200"
   ]
  },
  {
   "cell_type": "code",
   "execution_count": 3,
   "id": "1f6d525f",
   "metadata": {},
   "outputs": [
    {
     "data": {
      "text/plain": [
       "array([0.   , 0.025, 0.05 , 0.075, 0.1  , 0.125, 0.15 , 0.175, 0.2  ,\n",
       "       0.225, 0.25 , 0.275, 0.3  , 0.325, 0.35 , 0.375, 0.4  , 0.425,\n",
       "       0.45 , 0.475, 0.5  , 0.525, 0.55 , 0.575, 0.6  , 0.625, 0.65 ,\n",
       "       0.675, 0.7  , 0.725, 0.75 , 0.775, 0.8  ])"
      ]
     },
     "execution_count": 3,
     "metadata": {},
     "output_type": "execute_result"
    }
   ],
   "source": [
    "np.linspace(0, 0.8, 33)"
   ]
  },
  {
   "cell_type": "code",
   "execution_count": null,
   "id": "48fd445b",
   "metadata": {},
   "outputs": [],
   "source": [
    "def collect_vul(pars_post, n_collect=20, coverages=np.linspace(0, 0.8, 33), tp=\"VulACF\"):\n",
    "    idx = ['Pop', 'IncR', 'MorR', \n",
    "           'ACF_Vul_Footfall', 'ACF_Vul_Screened', 'ACF_Vul_Confirmed', 'ACF_Vul_Yield', 'ACF_Vul_TP',\n",
    "           'ACF_Vul_DS_Fl', 'ACF_Vul_DR_Fl', 'ACF_Vul_DR_Sl', \n",
    "           'ACF_Plain_Footfall', 'ACF_Plain_Screened', 'ACF_Plain_Confirmed', 'ACF_Plain_Yield', 'ACF_Plain_TP', \n",
    "           'ACF_Plain_DS_Fl', 'ACF_Plain_DR_Fl', 'ACF_Plain_DR_Sl']\n",
    "    \n",
    "    m = ModelIntv()\n",
    "    \n",
    "    sel = rd.choice(list(range(len(pars_post))), n_collect)\n",
    "    sel.sort()\n",
    "\n",
    "    mss = list()\n",
    "    mss_stats = list()\n",
    "\n",
    "\n",
    "    for i in sel:\n",
    "        pars = pars_post[i]\n",
    "        y1, pars = m.find_baseline(pars, 2022)\n",
    "\n",
    "        for k in coverages:    \n",
    "            _, ms, _ = m.simulate_onward(y1, pars, intv={tp: {'Coverage': k}}, t_end=2031)\n",
    "\n",
    "            ms = ms[idx].reset_index().assign(Key = i, Coverage=k, p_comorb=pars['p_comorb'], rr=pars['rr_risk_comorb'])\n",
    "            mss.append(ms)\n",
    "            \n",
    "            ms_stats = {'Key': i, 'Coverage': k, 'Pop0': ms.Pop.iloc[0]}\n",
    "\n",
    "            for key in idx[1:]:\n",
    "                ms_stats[key] = (ms[key] * ms.Pop).sum() * 0.5\n",
    "            \n",
    "            mss_stats.append(ms_stats)\n",
    "            \n",
    "    mss = pd.concat(mss).assign(Type=tp)\n",
    "    mss_stats = pd.DataFrame(mss_stats).assign(Type=tp)\n",
    "    return mss, mss_stats"
   ]
  },
  {
   "cell_type": "code",
   "execution_count": null,
   "id": "fece796d",
   "metadata": {},
   "outputs": [],
   "source": [
    "for folder in ['dy_lo', 'dy_hi']:\n",
    "    print(folder)\n",
    "    out_path = f'out/{folder}'\n",
    "    pars_post = json.load(open(f'{out_path}/Post.json', 'r'))\n",
    "    r_acf = json.load(open(f'{out_path}/R_ACF_Bg.json', 'r'))\n",
    "\n",
    "    for p in pars_post:\n",
    "        p.update(r_acf)\n",
    "\n",
    "    mss0, mss_stats0 = collect_vul(pars_post, n_collect=n_collect, tp='VulACF')\n",
    "    mss1, mss_stats1 = collect_vul(pars_post, n_collect=n_collect, tp='PlainACF')\n",
    "    mss = pd.concat([mss0, mss1])\n",
    "    mss_stats = pd.concat([mss_stats0, mss_stats1])\n",
    "    mss.to_csv(f'{out_path}/Sim_VulACF_budget.csv')\n",
    "    mss_stats.to_csv(f'{out_path}/Sim_VulACF_budget_stats.csv')"
   ]
  },
  {
   "cell_type": "code",
   "execution_count": null,
   "id": "5ff6a919",
   "metadata": {},
   "outputs": [],
   "source": [
    "def collect_fu(pars_post, n_collect=20, coverage=0.03, tp=\"VulACF\"):\n",
    "    idx = ['Pop', 'IncR', 'MorR', \n",
    "           'ACF_Vul_Footfall', 'ACF_Vul_Screened', 'ACF_Vul_Confirmed', 'ACF_Vul_Yield', 'ACF_Vul_TP',\n",
    "           'ACF_Vul_DS_Fl', 'ACF_Vul_DR_Fl', 'ACF_Vul_DR_Sl', \n",
    "           'ACF_Plain_Footfall', 'ACF_Plain_Screened', 'ACF_Plain_Confirmed', 'ACF_Plain_Yield', 'ACF_Plain_TP', \n",
    "           'ACF_Plain_DS_Fl', 'ACF_Plain_DR_Fl', 'ACF_Plain_DR_Sl']\n",
    "    \n",
    "    intvs = {\n",
    "        'Baseline': {},\n",
    "        'Vul_0_0': {'VulACF': {'Coverage': coverage, 'FollowUp': 0, 'Duration': 0}},\n",
    "        'Vul_2_3': {'VulACF': {'Coverage': coverage, 'FollowUp': 0.25, 'Duration': 2}},\n",
    "        'Vul_2_6': {'VulACF': {'Coverage': coverage, 'FollowUp': 0.5, 'Duration': 2}},\n",
    "        'Vul_3_3': {'VulACF': {'Coverage': coverage, 'FollowUp': 0.25, 'Duration': 3}},\n",
    "        'Vul_3_6': {'VulACF': {'Coverage': coverage, 'FollowUp': 0.5, 'Duration': 3}},\n",
    "    }\n",
    "    \n",
    "    \n",
    "    m = ModelIntv()\n",
    "    \n",
    "    sel = rd.choice(list(range(len(pars_post))), n_collect)\n",
    "    sel.sort()\n",
    "\n",
    "    mss = list()\n",
    "    mss_stats = list()\n",
    "\n",
    "\n",
    "    for i in sel:\n",
    "        pars = pars_post[i]\n",
    "        y1, pars = m.find_baseline(pars, 2022)\n",
    "        \n",
    "        for key, intv in intvs.items():\n",
    "            _, ms, _ = m.simulate_onward(y1, pars, intv=intv, t_end=2031)\n",
    "\n",
    "            ms = ms[idx].reset_index().assign(Key = i, p_comorb=pars['p_comorb'], rr=pars['rr_risk_comorb'])\n",
    "            mss.append(ms)\n",
    "            \n",
    "            ms_stats = {'Key': i, 'Scenario': key, 'Pop0': ms.Pop.iloc[0]}\n",
    "\n",
    "            for key in idx[1:]:\n",
    "                ms_stats[key] = (ms[key] * ms.Pop).sum() * 0.5\n",
    "            \n",
    "            mss_stats.append(ms_stats)\n",
    "            \n",
    "    mss = pd.concat(mss).assign(Coverage = coverage)\n",
    "    mss_stats = pd.DataFrame(mss_stats).assign(Coverage = coverage)\n",
    "    return mss, mss_stats"
   ]
  },
  {
   "cell_type": "code",
   "execution_count": 19,
   "id": "c59bed37",
   "metadata": {},
   "outputs": [
    {
     "name": "stdout",
     "output_type": "stream",
     "text": [
      "dy_lo\n"
     ]
    },
    {
     "ename": "NameError",
     "evalue": "name 'collect_fu' is not defined",
     "output_type": "error",
     "traceback": [
      "\u001b[0;31m---------------------------------------------------------------------------\u001b[0m",
      "\u001b[0;31mNameError\u001b[0m                                 Traceback (most recent call last)",
      "Input \u001b[0;32mIn [19]\u001b[0m, in \u001b[0;36m<cell line: 1>\u001b[0;34m()\u001b[0m\n\u001b[1;32m      7\u001b[0m \u001b[38;5;28;01mfor\u001b[39;00m p \u001b[38;5;129;01min\u001b[39;00m pars_post:\n\u001b[1;32m      8\u001b[0m     p\u001b[38;5;241m.\u001b[39mupdate(r_acf)\n\u001b[0;32m---> 10\u001b[0m mss, mss_stats \u001b[38;5;241m=\u001b[39m \u001b[43mcollect_fu\u001b[49m(pars_post, n_collect\u001b[38;5;241m=\u001b[39mn_collect, coverage\u001b[38;5;241m=\u001b[39m\u001b[38;5;241m0.01\u001b[39m)\n\u001b[1;32m     11\u001b[0m mss\u001b[38;5;241m.\u001b[39mto_csv(\u001b[38;5;124mf\u001b[39m\u001b[38;5;124m'\u001b[39m\u001b[38;5;132;01m{\u001b[39;00mout_path\u001b[38;5;132;01m}\u001b[39;00m\u001b[38;5;124m/Sim_VulACF_followup.csv\u001b[39m\u001b[38;5;124m'\u001b[39m)\n\u001b[1;32m     12\u001b[0m mss_stats\u001b[38;5;241m.\u001b[39mto_csv(\u001b[38;5;124mf\u001b[39m\u001b[38;5;124m'\u001b[39m\u001b[38;5;132;01m{\u001b[39;00mout_path\u001b[38;5;132;01m}\u001b[39;00m\u001b[38;5;124m/Sim_VulACF_followup_stats.csv\u001b[39m\u001b[38;5;124m'\u001b[39m)\n",
      "\u001b[0;31mNameError\u001b[0m: name 'collect_fu' is not defined"
     ]
    }
   ],
   "source": [
    "for folder in ['dy_lo', 'dy_hi']:\n",
    "    print(folder)\n",
    "    out_path = f'out/{folder}'\n",
    "    pars_post = json.load(open(f'{out_path}/Post.json', 'r'))\n",
    "    r_acf = json.load(open(f'{out_path}/R_ACF_Bg.json', 'r'))\n",
    "\n",
    "    for p in pars_post:\n",
    "        p.update(r_acf)\n",
    "        \n",
    "    mss, mss_stats = collect_fu(pars_post, n_collect=n_collect, coverage=0.01)\n",
    "    mss.to_csv(f'{out_path}/Sim_VulACF_followup.csv')\n",
    "    mss_stats.to_csv(f'{out_path}/Sim_VulACF_followup_stats.csv')"
   ]
  },
  {
   "cell_type": "code",
   "execution_count": null,
   "id": "ec635519",
   "metadata": {},
   "outputs": [],
   "source": [
    "mss_stats"
   ]
  },
  {
   "cell_type": "code",
   "execution_count": 4,
   "id": "11e23d77",
   "metadata": {},
   "outputs": [],
   "source": [
    "def collect_fux(pars_post, n_collect=20, coverage=0.03, tp=\"VulACF\"):\n",
    "    idx = ['Pop', 'IncR', 'MorR', \n",
    "           'ACF_Vul_Footfall', 'ACF_Vul_Screened', 'ACF_Vul_Confirmed', 'ACF_Vul_Yield', 'ACF_Vul_TP',\n",
    "           'ACF_Vul_DS_Fl', 'ACF_Vul_DR_Fl', 'ACF_Vul_DR_Sl', \n",
    "           'ACF_Vulfu_Footfall', 'ACF_Vulfu_Screened', 'ACF_Vulfu_Confirmed', 'ACF_Vulfu_Yield', 'ACF_Vulfu_TP',\n",
    "           'ACF_Vulfu_DS_Fl', 'ACF_Vulfu_DR_Fl', 'ACF_Vulfu_DR_Sl', \n",
    "           'ACF_Plain_Footfall', 'ACF_Plain_Screened', 'ACF_Plain_Confirmed', 'ACF_Plain_Yield', 'ACF_Plain_TP', \n",
    "           'ACF_Plain_DS_Fl', 'ACF_Plain_DR_Fl', 'ACF_Plain_DR_Sl']\n",
    "    \n",
    "    \n",
    "    m = ModelIntv()\n",
    "    \n",
    "    sel = rd.choice(list(range(len(pars_post))), n_collect)\n",
    "    sel.sort()\n",
    "\n",
    "    mss = list()\n",
    "    mss_stats = list()\n",
    "\n",
    "\n",
    "    for i in sel:\n",
    "        pars = pars_post[i]\n",
    "        y1, pars = m.find_baseline(pars, 2022)\n",
    "    \n",
    "        _, ms, _ = m.simulate_onward(y1, pars, intv={}, t_end=2031)\n",
    "\n",
    "        ms = ms.reset_index().assign(Key=i, FollowUp=0, Duration=0)\n",
    "        mss.append(ms)\n",
    "        ms_stats = {'Key': i, 'Scenario': 'Baseline', 'Pop0': ms.Pop.iloc[0], \n",
    "                    'FollowUp': 0, 'Duration': 0}\n",
    "        for key in idx[1:]:\n",
    "            try:\n",
    "                ms_stats[key] = (ms[key] * ms.Pop).sum() * 0.5\n",
    "            except KeyError:\n",
    "                ms_stats[key] = 0\n",
    "\n",
    "        mss_stats.append(ms_stats)\n",
    "    \n",
    "        for n_fu in list(range(7)): # + [24, 30, 36]:\n",
    "            if n_fu > 0:\n",
    "                fu = 1 / n_fu\n",
    "            else:\n",
    "                fu = 0\n",
    "            for dur in np.linspace(0, 4, 9):\n",
    "                intv = {'VulACF': {'Coverage': coverage, 'FollowUp': fu, 'Duration': dur}}\n",
    "                \n",
    "                _, ms, _ = m.simulate_onward(y1, pars, intv=intv, t_end=2031)\n",
    "                try:\n",
    "                    ms = ms.reset_index().assign(Key = i, FollowUp=fu, Duration=dur)\n",
    "                    mss.append(ms)\n",
    "\n",
    "                    ms_stats = {'Key': i, 'Scenario': key, 'Pop0': ms.Pop.iloc[0], \n",
    "                                'FollowUp': fu, 'Duration': dur}\n",
    "\n",
    "                    for key in idx[1:]:\n",
    "                        try:\n",
    "                            ms_stats[key] = (ms[key] * ms.Pop).sum() * 0.5\n",
    "                        except KeyError:\n",
    "                            ms_stats[key] = 0\n",
    "\n",
    "                    mss_stats.append(ms_stats)\n",
    "                except TypeError:\n",
    "                    pass\n",
    "            \n",
    "    mss = pd.concat(mss).assign(Coverage = coverage)\n",
    "    mss_stats = pd.DataFrame(mss_stats).assign(Coverage = coverage)\n",
    "    return mss, mss_stats"
   ]
  },
  {
   "cell_type": "code",
   "execution_count": null,
   "id": "7619c8c6",
   "metadata": {},
   "outputs": [
    {
     "name": "stdout",
     "output_type": "stream",
     "text": [
      "dy_hi\n",
      "dy_lo\n"
     ]
    }
   ],
   "source": [
    "for folder in ['dy_hi', 'dy_lo']:\n",
    "    print(folder)\n",
    "    out_path = f'out/{folder}'\n",
    "    pars_post = json.load(open(f'{out_path}/Post.json', 'r'))\n",
    "    r_acf = json.load(open(f'{out_path}/R_ACF_Bg.json', 'r'))\n",
    "\n",
    "    for p in pars_post:\n",
    "        p.update(r_acf)\n",
    "        \n",
    "    mss, mss_stats = collect_fux(pars_post, n_collect=n_collect, coverage=0.03)\n",
    "    mss.to_csv(f'{out_path}/Sim_VulACF_fudur.csv')\n",
    "    mss_stats.to_csv(f'{out_path}/Sim_VulACF_fudur_stats.csv')"
   ]
  },
  {
   "cell_type": "code",
   "execution_count": null,
   "id": "d16077c3",
   "metadata": {},
   "outputs": [],
   "source": [
    "mss_stats"
   ]
  },
  {
   "cell_type": "code",
   "execution_count": null,
   "id": "5d9fc5c0",
   "metadata": {},
   "outputs": [],
   "source": []
  }
 ],
 "metadata": {
  "kernelspec": {
   "display_name": "Python 3 (ipykernel)",
   "language": "python",
   "name": "python3"
  },
  "language_info": {
   "codemirror_mode": {
    "name": "ipython",
    "version": 3
   },
   "file_extension": ".py",
   "mimetype": "text/x-python",
   "name": "python",
   "nbconvert_exporter": "python",
   "pygments_lexer": "ipython3",
   "version": "3.10.5"
  }
 },
 "nbformat": 4,
 "nbformat_minor": 5
}
