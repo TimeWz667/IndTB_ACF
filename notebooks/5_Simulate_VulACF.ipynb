{
 "cells": [
  {
   "cell_type": "code",
   "execution_count": 1,
   "id": "2275d519",
   "metadata": {},
   "outputs": [],
   "source": [
    "import json\n",
    "import matplotlib.pyplot as plt\n",
    "import numpy as np\n",
    "import pandas as pd\n",
    "from sim.dy.model_intv import ModelIntv\n",
    "import sim.dy.keys as I\n",
    "import numpy.random as rd"
   ]
  },
  {
   "cell_type": "code",
   "execution_count": 2,
   "id": "48fd445b",
   "metadata": {},
   "outputs": [],
   "source": [
    "def collect_vul(pars_post, n_collect=20, coverages=np.linspace(0, 1, 41), tp=\"VulACF\"):\n",
    "    idx = ['Pop', 'IncR', 'MorR', \n",
    "           'ACF_Vul_Footfall', 'ACF_Vul_Screened', 'ACF_Vul_Confirmed', 'ACF_Vul_Yield', 'ACF_Vul_TP',\n",
    "           'ACF_Vul_DS_Fl', 'ACF_Vul_DR_Fl', 'ACF_Vul_DR_Sl', \n",
    "           'ACF_Plain_Footfall', 'ACF_Plain_Screened', 'ACF_Plain_Confirmed', 'ACF_Plain_Yield', 'ACF_Plain_TP', \n",
    "           'ACF_Plain_DS_Fl', 'ACF_Plain_DR_Fl', 'ACF_Plain_DR_Sl']\n",
    "    \n",
    "    m = ModelIntv()\n",
    "    \n",
    "    sel = rd.choice(list(range(len(pars_post))), n_collect)\n",
    "    sel.sort()\n",
    "\n",
    "    mss = list()\n",
    "    mss_stats = list()\n",
    "\n",
    "\n",
    "    for i in sel:\n",
    "        pars = pars_post[i]\n",
    "        y1, pars = m.find_baseline(pars, 2022)\n",
    "\n",
    "        for k in coverages:    \n",
    "            _, ms, _ = m.simulate_onward(y1, pars, intv={tp: {'Coverage': k}}, t_end=2031)\n",
    "\n",
    "            ms = ms[idx].reset_index().assign(Key = i, Coverage=k, p_comorb=pars['p_comorb'], rr=pars['rr_risk_comorb'])\n",
    "            mss.append(ms)\n",
    "            \n",
    "            ms_stats = {'Key': i, 'Coverage': k, 'Pop0': ms.Pop.iloc[0]}\n",
    "\n",
    "            for key in idx[1:]:\n",
    "                ms_stats[key] = (ms[key] * ms.Pop).sum()\n",
    "            \n",
    "            mss_stats.append(ms_stats)\n",
    "            \n",
    "    mss = pd.concat(mss).assign(Type=tp)\n",
    "    mss_stats = pd.DataFrame(mss_stats).assign(Type=tp)\n",
    "    return mss, mss_stats"
   ]
  },
  {
   "cell_type": "code",
   "execution_count": 3,
   "id": "fece796d",
   "metadata": {},
   "outputs": [
    {
     "name": "stdout",
     "output_type": "stream",
     "text": [
      "dy_lo\n",
      "dy_hi\n"
     ]
    }
   ],
   "source": [
    "for folder in ['dy_lo', 'dy_hi']:\n",
    "    print(folder)\n",
    "    out_path = f'out/{folder}'\n",
    "    pars_post = json.load(open(f'{out_path}/Post.json', 'r'))\n",
    "    r_acf = json.load(open(f'{out_path}/R_ACF_Bg.json', 'r'))\n",
    "\n",
    "    for p in pars_post:\n",
    "        p.update(r_acf)\n",
    "\n",
    "    mss0, mss_stats0 = collect_vul(pars_post, n_collect=100, tp='VulACF')\n",
    "    mss1, mss_stats1 = collect_vul(pars_post, n_collect=100, tp='PlainACF')\n",
    "    mss = pd.concat([mss0, mss1])\n",
    "    mss_stats = pd.concat([mss_stats0, mss_stats1])\n",
    "    mss.to_csv(f'{out_path}/Sim_VulACF_budget.csv')\n",
    "    mss_stats.to_csv(f'{out_path}/Sim_VulACF_budget_stats.csv')"
   ]
  },
  {
   "cell_type": "code",
   "execution_count": null,
   "id": "4246d725",
   "metadata": {},
   "outputs": [],
   "source": []
  }
 ],
 "metadata": {
  "kernelspec": {
   "display_name": "Python 3 (ipykernel)",
   "language": "python",
   "name": "python3"
  },
  "language_info": {
   "codemirror_mode": {
    "name": "ipython",
    "version": 3
   },
   "file_extension": ".py",
   "mimetype": "text/x-python",
   "name": "python",
   "nbconvert_exporter": "python",
   "pygments_lexer": "ipython3",
   "version": "3.10.5"
  }
 },
 "nbformat": 4,
 "nbformat_minor": 5
}
