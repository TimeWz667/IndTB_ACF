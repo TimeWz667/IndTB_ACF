{
 "cells": [
  {
   "cell_type": "code",
   "execution_count": 1,
   "id": "c0358e57",
   "metadata": {},
   "outputs": [],
   "source": [
    "import numpy as np\n",
    "from sim.dy import Model\n",
    "import json\n",
    "import pandas as pd\n",
    "import matplotlib.pylab as plt\n",
    "from mc import *\n",
    "import pymc as pm\n",
    "import arviz as az"
   ]
  },
  {
   "cell_type": "code",
   "execution_count": 2,
   "id": "2b96663f",
   "metadata": {},
   "outputs": [],
   "source": [
    "with open('data/test_priors.json', 'r') as f:\n",
    "    prior = json.load(f)\n",
    "\n",
    "m = Model(year0=1970)\n",
    "\n",
    "p0 = prior[0]\n",
    "p0.update({'beta_ds': 11, 'rr_risk_comorb': 2.3, 'rr_beta_dr': 1.02, 'p_comorb': 0.3})"
   ]
  },
  {
   "cell_type": "code",
   "execution_count": 3,
   "id": "0676e4c3",
   "metadata": {},
   "outputs": [
    {
     "name": "stdout",
     "output_type": "stream",
     "text": [
      "1.5 s ± 39.7 ms per loop (mean ± std. dev. of 7 runs, 1 loop each)\n"
     ]
    }
   ],
   "source": [
    "%timeit m.simulate(p0)"
   ]
  },
  {
   "cell_type": "code",
   "execution_count": 4,
   "id": "7e941a44",
   "metadata": {},
   "outputs": [
    {
     "name": "stdout",
     "output_type": "stream",
     "text": [
      "1.15 s ± 47.1 ms per loop (mean ± std. dev. of 7 runs, 1 loop each)\n"
     ]
    }
   ],
   "source": [
    "%timeit m.simulate_to_fit(p0)"
   ]
  },
  {
   "cell_type": "code",
   "execution_count": 5,
   "id": "f75e9bee",
   "metadata": {},
   "outputs": [],
   "source": [
    "#%prun m.simulate(p0)"
   ]
  },
  {
   "cell_type": "markdown",
   "id": "a556d880",
   "metadata": {},
   "source": [
    "## Test model fitting"
   ]
  },
  {
   "cell_type": "code",
   "execution_count": 6,
   "id": "812dbee4",
   "metadata": {},
   "outputs": [
    {
     "data": {
      "text/html": [
       "<div>\n",
       "<style scoped>\n",
       "    .dataframe tbody tr th:only-of-type {\n",
       "        vertical-align: middle;\n",
       "    }\n",
       "\n",
       "    .dataframe tbody tr th {\n",
       "        vertical-align: top;\n",
       "    }\n",
       "\n",
       "    .dataframe thead th {\n",
       "        text-align: right;\n",
       "    }\n",
       "</style>\n",
       "<table border=\"1\" class=\"dataframe\">\n",
       "  <thead>\n",
       "    <tr style=\"text-align: right;\">\n",
       "      <th></th>\n",
       "      <th>Index</th>\n",
       "      <th>M</th>\n",
       "      <th>L</th>\n",
       "      <th>U</th>\n",
       "    </tr>\n",
       "  </thead>\n",
       "  <tbody>\n",
       "    <tr>\n",
       "      <th>0</th>\n",
       "      <td>Prev</td>\n",
       "      <td>0.004754</td>\n",
       "      <td>0.004127</td>\n",
       "      <td>0.005418</td>\n",
       "    </tr>\n",
       "    <tr>\n",
       "      <th>1</th>\n",
       "      <td>ARTI</td>\n",
       "      <td>0.013254</td>\n",
       "      <td>0.010844</td>\n",
       "      <td>0.015663</td>\n",
       "    </tr>\n",
       "    <tr>\n",
       "      <th>2</th>\n",
       "      <td>PrDR_CNR</td>\n",
       "      <td>0.041000</td>\n",
       "      <td>0.035000</td>\n",
       "      <td>0.045000</td>\n",
       "    </tr>\n",
       "    <tr>\n",
       "      <th>3</th>\n",
       "      <td>PrAsym</td>\n",
       "      <td>0.631150</td>\n",
       "      <td>0.565854</td>\n",
       "      <td>0.697561</td>\n",
       "    </tr>\n",
       "    <tr>\n",
       "      <th>4</th>\n",
       "      <td>PrPreCS</td>\n",
       "      <td>0.132902</td>\n",
       "      <td>0.087805</td>\n",
       "      <td>0.180488</td>\n",
       "    </tr>\n",
       "    <tr>\n",
       "      <th>5</th>\n",
       "      <td>PrExCS</td>\n",
       "      <td>0.187874</td>\n",
       "      <td>0.136585</td>\n",
       "      <td>0.243902</td>\n",
       "    </tr>\n",
       "    <tr>\n",
       "      <th>6</th>\n",
       "      <td>PrSpAsym</td>\n",
       "      <td>0.329022</td>\n",
       "      <td>0.251799</td>\n",
       "      <td>0.410072</td>\n",
       "    </tr>\n",
       "    <tr>\n",
       "      <th>7</th>\n",
       "      <td>PrSpPreCS</td>\n",
       "      <td>0.389226</td>\n",
       "      <td>0.222222</td>\n",
       "      <td>0.555556</td>\n",
       "    </tr>\n",
       "    <tr>\n",
       "      <th>8</th>\n",
       "      <td>PrSpExCS</td>\n",
       "      <td>0.379036</td>\n",
       "      <td>0.200000</td>\n",
       "      <td>0.566667</td>\n",
       "    </tr>\n",
       "  </tbody>\n",
       "</table>\n",
       "</div>"
      ],
      "text/plain": [
       "       Index         M         L         U\n",
       "0       Prev  0.004754  0.004127  0.005418\n",
       "1       ARTI  0.013254  0.010844  0.015663\n",
       "2   PrDR_CNR  0.041000  0.035000  0.045000\n",
       "3     PrAsym  0.631150  0.565854  0.697561\n",
       "4    PrPreCS  0.132902  0.087805  0.180488\n",
       "5     PrExCS  0.187874  0.136585  0.243902\n",
       "6   PrSpAsym  0.329022  0.251799  0.410072\n",
       "7  PrSpPreCS  0.389226  0.222222  0.555556\n",
       "8   PrSpExCS  0.379036  0.200000  0.566667"
      ]
     },
     "execution_count": 6,
     "metadata": {},
     "output_type": "execute_result"
    }
   ],
   "source": [
    "targets = json.load(open('data/targets.json', 'r'))\n",
    "targets = pd.DataFrame(targets)\n",
    "targets"
   ]
  },
  {
   "cell_type": "code",
   "execution_count": 7,
   "id": "83e3d130",
   "metadata": {},
   "outputs": [],
   "source": [
    "src = load_objectives(path_target='data/targets.json', exo={'p_comorb': 0.1542, 'rr_risk_comorb': 2.38})\n"
   ]
  },
  {
   "cell_type": "code",
   "execution_count": 8,
   "id": "c3137c49",
   "metadata": {},
   "outputs": [],
   "source": [
    "model = src.build_model()"
   ]
  },
  {
   "cell_type": "code",
   "execution_count": 9,
   "id": "6e1de891",
   "metadata": {},
   "outputs": [
    {
     "name": "stderr",
     "output_type": "stream",
     "text": [
      "Initializing SMC sampler...\n",
      "Sampling 1 chain in 1 job\n"
     ]
    },
    {
     "data": {
      "text/html": [
       "\n",
       "<style>\n",
       "    /* Turns off some styling */\n",
       "    progress {\n",
       "        /* gets rid of default border in Firefox and Opera. */\n",
       "        border: none;\n",
       "        /* Needs to be in here for Safari polyfill so background images work as expected. */\n",
       "        background-size: auto;\n",
       "    }\n",
       "    progress:not([value]), progress:not([value])::-webkit-progress-bar {\n",
       "        background: repeating-linear-gradient(45deg, #7e7e7e, #7e7e7e 10px, #5c5c5c 10px, #5c5c5c 20px);\n",
       "    }\n",
       "    .progress-bar-interrupted, .progress-bar-interrupted::-webkit-progress-bar {\n",
       "        background: #F44336;\n",
       "    }\n",
       "</style>\n"
      ],
      "text/plain": [
       "<IPython.core.display.HTML object>"
      ]
     },
     "metadata": {},
     "output_type": "display_data"
    },
    {
     "data": {
      "text/html": [
       "\n",
       "    <div>\n",
       "      <progress value='100' class='' max='100' style='width:300px; height:20px; vertical-align: middle;'></progress>\n",
       "      100.00% [100/100 00:00&lt;? Chain: 1/1 Stage: 7 Beta: 1.000]\n",
       "    </div>\n",
       "    "
      ],
      "text/plain": [
       "<IPython.core.display.HTML object>"
      ]
     },
     "metadata": {},
     "output_type": "display_data"
    },
    {
     "name": "stdout",
     "output_type": "stream",
     "text": [
      " "
     ]
    },
    {
     "name": "stderr",
     "output_type": "stream",
     "text": [
      "/opt/conda/envs/pymc-dev/lib/python3.10/site-packages/pymc/smc/sample_smc.py:248: UserWarning: The number of samples is too small to check convergence reliably.\n",
      "  _compute_convergence_checks(idata, draws, model, trace)\n"
     ]
    },
    {
     "data": {
      "text/html": [
       "\n",
       "<style>\n",
       "    /* Turns off some styling */\n",
       "    progress {\n",
       "        /* gets rid of default border in Firefox and Opera. */\n",
       "        border: none;\n",
       "        /* Needs to be in here for Safari polyfill so background images work as expected. */\n",
       "        background-size: auto;\n",
       "    }\n",
       "    progress:not([value]), progress:not([value])::-webkit-progress-bar {\n",
       "        background: repeating-linear-gradient(45deg, #7e7e7e, #7e7e7e 10px, #5c5c5c 10px, #5c5c5c 20px);\n",
       "    }\n",
       "    .progress-bar-interrupted, .progress-bar-interrupted::-webkit-progress-bar {\n",
       "        background: #F44336;\n",
       "    }\n",
       "</style>\n"
      ],
      "text/plain": [
       "<IPython.core.display.HTML object>"
      ]
     },
     "metadata": {},
     "output_type": "display_data"
    },
    {
     "data": {
      "text/html": [
       "\n",
       "    <div>\n",
       "      <progress value='15' class='' max='15' style='width:300px; height:20px; vertical-align: middle;'></progress>\n",
       "      100.00% [15/15 00:08&lt;00:00]\n",
       "    </div>\n",
       "    "
      ],
      "text/plain": [
       "<IPython.core.display.HTML object>"
      ]
     },
     "metadata": {},
     "output_type": "display_data"
    }
   ],
   "source": [
    "with model:\n",
    "    fit = pm.sample_smc(draws=15, chains=1)\n",
    "    ppost = pm.sample_posterior_predictive(fit)"
   ]
  },
  {
   "cell_type": "code",
   "execution_count": 10,
   "id": "403edcaf",
   "metadata": {},
   "outputs": [
    {
     "data": {
      "image/png": "[encoded data removed]",
      "text/plain": [
       "<Figure size 640x480 with 6 Axes>"
      ]
     },
     "metadata": {},
     "output_type": "display_data"
    }
   ],
   "source": [
    "obs, eps = src.Obs, src.Eps\n",
    "\n",
    "fig, ax = plt.subplots(nrows=6)\n",
    "\n",
    "\n",
    "m = np.mean(ppost.posterior_predictive.sim.stack(samples=('chain', 'draw')), 1)\n",
    "l = np.quantile(ppost.posterior_predictive.sim.stack(samples=('chain', 'draw')), 0.025, 1)\n",
    "u = np.quantile(ppost.posterior_predictive.sim.stack(samples=('chain', 'draw')), 0.975, 1)\n",
    "\n",
    "for i in range(6):\n",
    "    ax[i].scatter(obs[i], 0, color='y')\n",
    "    ax[i].plot([obs[i] - eps[i], obs[i] + eps[i]], [0, 0], color='y')\n",
    "    \n",
    "    ax[i].scatter(m[i], 0.1)\n",
    "    ax[i].plot([l[i], u[i]], [0.1, 0.1] )\n",
    "    \n",
    "fig.tight_layout()"
   ]
  },
  {
   "cell_type": "code",
   "execution_count": 11,
   "id": "901939a4",
   "metadata": {},
   "outputs": [
    {
     "data": {
      "text/html": [
       "<div>\n",
       "<style scoped>\n",
       "    .dataframe tbody tr th:only-of-type {\n",
       "        vertical-align: middle;\n",
       "    }\n",
       "\n",
       "    .dataframe tbody tr th {\n",
       "        vertical-align: top;\n",
       "    }\n",
       "\n",
       "    .dataframe thead th {\n",
       "        text-align: right;\n",
       "    }\n",
       "</style>\n",
       "<table border=\"1\" class=\"dataframe\">\n",
       "  <thead>\n",
       "    <tr style=\"text-align: right;\">\n",
       "      <th></th>\n",
       "      <th>mean</th>\n",
       "      <th>sd</th>\n",
       "      <th>hdi_3%</th>\n",
       "      <th>hdi_97%</th>\n",
       "    </tr>\n",
       "  </thead>\n",
       "  <tbody>\n",
       "    <tr>\n",
       "      <th>p_comorb</th>\n",
       "      <td>0.195</td>\n",
       "      <td>0.006</td>\n",
       "      <td>0.184</td>\n",
       "      <td>0.208</td>\n",
       "    </tr>\n",
       "    <tr>\n",
       "      <th>rr_risk_comorb</th>\n",
       "      <td>3.482</td>\n",
       "      <td>0.427</td>\n",
       "      <td>2.600</td>\n",
       "      <td>4.372</td>\n",
       "    </tr>\n",
       "    <tr>\n",
       "      <th>beta_ds</th>\n",
       "      <td>21.223</td>\n",
       "      <td>0.819</td>\n",
       "      <td>19.989</td>\n",
       "      <td>23.078</td>\n",
       "    </tr>\n",
       "    <tr>\n",
       "      <th>rr_beta_dr</th>\n",
       "      <td>0.978</td>\n",
       "      <td>0.006</td>\n",
       "      <td>0.969</td>\n",
       "      <td>0.990</td>\n",
       "    </tr>\n",
       "    <tr>\n",
       "      <th>rr_inf_asym</th>\n",
       "      <td>0.045</td>\n",
       "      <td>0.003</td>\n",
       "      <td>0.040</td>\n",
       "      <td>0.050</td>\n",
       "    </tr>\n",
       "    <tr>\n",
       "      <th>rr_sus_ltbi</th>\n",
       "      <td>0.412</td>\n",
       "      <td>0.012</td>\n",
       "      <td>0.395</td>\n",
       "      <td>0.431</td>\n",
       "    </tr>\n",
       "    <tr>\n",
       "      <th>r_react</th>\n",
       "      <td>0.001</td>\n",
       "      <td>0.000</td>\n",
       "      <td>0.001</td>\n",
       "      <td>0.001</td>\n",
       "    </tr>\n",
       "    <tr>\n",
       "      <th>r_relapse_td</th>\n",
       "      <td>0.132</td>\n",
       "      <td>0.002</td>\n",
       "      <td>0.128</td>\n",
       "      <td>0.136</td>\n",
       "    </tr>\n",
       "    <tr>\n",
       "      <th>r_relapse_tc</th>\n",
       "      <td>0.032</td>\n",
       "      <td>0.000</td>\n",
       "      <td>0.032</td>\n",
       "      <td>0.032</td>\n",
       "    </tr>\n",
       "    <tr>\n",
       "      <th>r_relapse_st</th>\n",
       "      <td>0.002</td>\n",
       "      <td>0.000</td>\n",
       "      <td>0.002</td>\n",
       "      <td>0.002</td>\n",
       "    </tr>\n",
       "    <tr>\n",
       "      <th>r_onset</th>\n",
       "      <td>1.378</td>\n",
       "      <td>0.037</td>\n",
       "      <td>1.290</td>\n",
       "      <td>1.444</td>\n",
       "    </tr>\n",
       "    <tr>\n",
       "      <th>r_clear</th>\n",
       "      <td>0.034</td>\n",
       "      <td>0.000</td>\n",
       "      <td>0.034</td>\n",
       "      <td>0.034</td>\n",
       "    </tr>\n",
       "    <tr>\n",
       "      <th>r_cs_s</th>\n",
       "      <td>3.330</td>\n",
       "      <td>0.437</td>\n",
       "      <td>2.575</td>\n",
       "      <td>4.216</td>\n",
       "    </tr>\n",
       "    <tr>\n",
       "      <th>r_cs_c</th>\n",
       "      <td>4.843</td>\n",
       "      <td>0.104</td>\n",
       "      <td>4.637</td>\n",
       "      <td>4.976</td>\n",
       "    </tr>\n",
       "    <tr>\n",
       "      <th>p_entry_pri</th>\n",
       "      <td>0.550</td>\n",
       "      <td>0.005</td>\n",
       "      <td>0.539</td>\n",
       "      <td>0.562</td>\n",
       "    </tr>\n",
       "    <tr>\n",
       "      <th>p_dx_pub</th>\n",
       "      <td>0.843</td>\n",
       "      <td>0.002</td>\n",
       "      <td>0.839</td>\n",
       "      <td>0.846</td>\n",
       "    </tr>\n",
       "    <tr>\n",
       "      <th>p_dx_pri</th>\n",
       "      <td>0.595</td>\n",
       "      <td>0.007</td>\n",
       "      <td>0.582</td>\n",
       "      <td>0.608</td>\n",
       "    </tr>\n",
       "    <tr>\n",
       "      <th>p_dst_pcf</th>\n",
       "      <td>0.091</td>\n",
       "      <td>0.003</td>\n",
       "      <td>0.086</td>\n",
       "      <td>0.097</td>\n",
       "    </tr>\n",
       "    <tr>\n",
       "      <th>p_tr_pub</th>\n",
       "      <td>0.896</td>\n",
       "      <td>0.001</td>\n",
       "      <td>0.894</td>\n",
       "      <td>0.899</td>\n",
       "    </tr>\n",
       "    <tr>\n",
       "      <th>acf_cxr_sens</th>\n",
       "      <td>0.988</td>\n",
       "      <td>0.000</td>\n",
       "      <td>0.987</td>\n",
       "      <td>0.989</td>\n",
       "    </tr>\n",
       "    <tr>\n",
       "      <th>acf_cxr_spec</th>\n",
       "      <td>0.751</td>\n",
       "      <td>0.002</td>\n",
       "      <td>0.746</td>\n",
       "      <td>0.755</td>\n",
       "    </tr>\n",
       "    <tr>\n",
       "      <th>acf_xpert_sens</th>\n",
       "      <td>0.918</td>\n",
       "      <td>0.001</td>\n",
       "      <td>0.916</td>\n",
       "      <td>0.919</td>\n",
       "    </tr>\n",
       "    <tr>\n",
       "      <th>acf_xpert_spec</th>\n",
       "      <td>0.980</td>\n",
       "      <td>0.002</td>\n",
       "      <td>0.976</td>\n",
       "      <td>0.984</td>\n",
       "    </tr>\n",
       "    <tr>\n",
       "      <th>acf_dst_sens</th>\n",
       "      <td>0.955</td>\n",
       "      <td>0.000</td>\n",
       "      <td>0.955</td>\n",
       "      <td>0.956</td>\n",
       "    </tr>\n",
       "  </tbody>\n",
       "</table>\n",
       "</div>"
      ],
      "text/plain": [
       "                  mean     sd  hdi_3%  hdi_97%\n",
       "p_comorb         0.195  0.006   0.184    0.208\n",
       "rr_risk_comorb   3.482  0.427   2.600    4.372\n",
       "beta_ds         21.223  0.819  19.989   23.078\n",
       "rr_beta_dr       0.978  0.006   0.969    0.990\n",
       "rr_inf_asym      0.045  0.003   0.040    0.050\n",
       "rr_sus_ltbi      0.412  0.012   0.395    0.431\n",
       "r_react          0.001  0.000   0.001    0.001\n",
       "r_relapse_td     0.132  0.002   0.128    0.136\n",
       "r_relapse_tc     0.032  0.000   0.032    0.032\n",
       "r_relapse_st     0.002  0.000   0.002    0.002\n",
       "r_onset          1.378  0.037   1.290    1.444\n",
       "r_clear          0.034  0.000   0.034    0.034\n",
       "r_cs_s           3.330  0.437   2.575    4.216\n",
       "r_cs_c           4.843  0.104   4.637    4.976\n",
       "p_entry_pri      0.550  0.005   0.539    0.562\n",
       "p_dx_pub         0.843  0.002   0.839    0.846\n",
       "p_dx_pri         0.595  0.007   0.582    0.608\n",
       "p_dst_pcf        0.091  0.003   0.086    0.097\n",
       "p_tr_pub         0.896  0.001   0.894    0.899\n",
       "acf_cxr_sens     0.988  0.000   0.987    0.989\n",
       "acf_cxr_spec     0.751  0.002   0.746    0.755\n",
       "acf_xpert_sens   0.918  0.001   0.916    0.919\n",
       "acf_xpert_spec   0.980  0.002   0.976    0.984\n",
       "acf_dst_sens     0.955  0.000   0.955    0.956"
      ]
     },
     "execution_count": 11,
     "metadata": {},
     "output_type": "execute_result"
    }
   ],
   "source": [
    "az.summary(fit, kind=\"stats\")"
   ]
  },
  {
   "cell_type": "code",
   "execution_count": null,
   "id": "2a11d8ee",
   "metadata": {},
   "outputs": [],
   "source": []
  }
 ],
 "metadata": {
  "kernelspec": {
   "display_name": "Python 3 (ipykernel)",
   "language": "python",
   "name": "python3"
  },
  "language_info": {
   "codemirror_mode": {
    "name": "ipython",
    "version": 3
   },
   "file_extension": ".py",
   "mimetype": "text/x-python",
   "name": "python",
   "nbconvert_exporter": "python",
   "pygments_lexer": "ipython3",
   "version": "3.10.5"
  }
 },
 "nbformat": 4,
 "nbformat_minor": 5
}
