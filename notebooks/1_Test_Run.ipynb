{
 "cells": [
  {
   "cell_type": "code",
   "execution_count": 1,
   "id": "c0358e57",
   "metadata": {},
   "outputs": [],
   "source": [
    "import numpy as np\n",
    "from sim.dy import Model\n",
    "import json\n",
    "import pandas as pd\n",
    "import matplotlib.pylab as plt\n",
    "from mc import *\n",
    "import pymc as pm"
   ]
  },
  {
   "cell_type": "code",
   "execution_count": 2,
   "id": "2b96663f",
   "metadata": {},
   "outputs": [],
   "source": [
    "with open('data/test_priors.json', 'r') as f:\n",
    "    prior = json.load(f)\n",
    "\n",
    "m = Model(year0=1970)\n",
    "\n",
    "p0 = prior[0]\n",
    "p0.update({'beta_ds': 11, 'rr_risk_comorb': 20, 'rr_beta_dr': 1.02, 'p_comorb': 0.3})"
   ]
  },
  {
   "cell_type": "code",
   "execution_count": 3,
   "id": "0676e4c3",
   "metadata": {},
   "outputs": [
    {
     "name": "stdout",
     "output_type": "stream",
     "text": [
      "1.29 s ± 25.8 ms per loop (mean ± std. dev. of 7 runs, 1 loop each)\n"
     ]
    }
   ],
   "source": [
    "%timeit m.simulate(p0)"
   ]
  },
  {
   "cell_type": "code",
   "execution_count": 4,
   "id": "7e941a44",
   "metadata": {},
   "outputs": [
    {
     "name": "stdout",
     "output_type": "stream",
     "text": [
      "971 ms ± 11.3 ms per loop (mean ± std. dev. of 7 runs, 1 loop each)\n"
     ]
    }
   ],
   "source": [
    "%timeit m.simulate_to_fit(p0)"
   ]
  },
  {
   "cell_type": "code",
   "execution_count": 5,
   "id": "f75e9bee",
   "metadata": {},
   "outputs": [],
   "source": [
    "#%prun m.simulate(p0)"
   ]
  },
  {
   "cell_type": "markdown",
   "id": "a556d880",
   "metadata": {},
   "source": [
    "## Test model fitting"
   ]
  },
  {
   "cell_type": "code",
   "execution_count": 5,
   "id": "812dbee4",
   "metadata": {},
   "outputs": [
    {
     "data": {
      "text/html": [
       "<div>\n",
       "<style scoped>\n",
       "    .dataframe tbody tr th:only-of-type {\n",
       "        vertical-align: middle;\n",
       "    }\n",
       "\n",
       "    .dataframe tbody tr th {\n",
       "        vertical-align: top;\n",
       "    }\n",
       "\n",
       "    .dataframe thead th {\n",
       "        text-align: right;\n",
       "    }\n",
       "</style>\n",
       "<table border=\"1\" class=\"dataframe\">\n",
       "  <thead>\n",
       "    <tr style=\"text-align: right;\">\n",
       "      <th></th>\n",
       "      <th>Index</th>\n",
       "      <th>M</th>\n",
       "      <th>L</th>\n",
       "      <th>U</th>\n",
       "    </tr>\n",
       "  </thead>\n",
       "  <tbody>\n",
       "    <tr>\n",
       "      <th>0</th>\n",
       "      <td>Prev</td>\n",
       "      <td>0.004754</td>\n",
       "      <td>0.004127</td>\n",
       "      <td>0.005418</td>\n",
       "    </tr>\n",
       "    <tr>\n",
       "      <th>1</th>\n",
       "      <td>ARTI</td>\n",
       "      <td>0.013254</td>\n",
       "      <td>0.010844</td>\n",
       "      <td>0.015663</td>\n",
       "    </tr>\n",
       "    <tr>\n",
       "      <th>2</th>\n",
       "      <td>PrDR_CNR</td>\n",
       "      <td>0.041000</td>\n",
       "      <td>0.035000</td>\n",
       "      <td>0.045000</td>\n",
       "    </tr>\n",
       "    <tr>\n",
       "      <th>3</th>\n",
       "      <td>PrAsym</td>\n",
       "      <td>0.631150</td>\n",
       "      <td>0.565854</td>\n",
       "      <td>0.697561</td>\n",
       "    </tr>\n",
       "    <tr>\n",
       "      <th>4</th>\n",
       "      <td>PrPreCS</td>\n",
       "      <td>0.132902</td>\n",
       "      <td>0.087805</td>\n",
       "      <td>0.180488</td>\n",
       "    </tr>\n",
       "    <tr>\n",
       "      <th>5</th>\n",
       "      <td>PrExCS</td>\n",
       "      <td>0.187874</td>\n",
       "      <td>0.136585</td>\n",
       "      <td>0.243902</td>\n",
       "    </tr>\n",
       "    <tr>\n",
       "      <th>6</th>\n",
       "      <td>PrSpAsym</td>\n",
       "      <td>0.329022</td>\n",
       "      <td>0.251799</td>\n",
       "      <td>0.410072</td>\n",
       "    </tr>\n",
       "    <tr>\n",
       "      <th>7</th>\n",
       "      <td>PrSpPreCS</td>\n",
       "      <td>0.389226</td>\n",
       "      <td>0.222222</td>\n",
       "      <td>0.555556</td>\n",
       "    </tr>\n",
       "    <tr>\n",
       "      <th>8</th>\n",
       "      <td>PrSpExCS</td>\n",
       "      <td>0.379036</td>\n",
       "      <td>0.200000</td>\n",
       "      <td>0.566667</td>\n",
       "    </tr>\n",
       "  </tbody>\n",
       "</table>\n",
       "</div>"
      ],
      "text/plain": [
       "       Index         M         L         U\n",
       "0       Prev  0.004754  0.004127  0.005418\n",
       "1       ARTI  0.013254  0.010844  0.015663\n",
       "2   PrDR_CNR  0.041000  0.035000  0.045000\n",
       "3     PrAsym  0.631150  0.565854  0.697561\n",
       "4    PrPreCS  0.132902  0.087805  0.180488\n",
       "5     PrExCS  0.187874  0.136585  0.243902\n",
       "6   PrSpAsym  0.329022  0.251799  0.410072\n",
       "7  PrSpPreCS  0.389226  0.222222  0.555556\n",
       "8   PrSpExCS  0.379036  0.200000  0.566667"
      ]
     },
     "execution_count": 5,
     "metadata": {},
     "output_type": "execute_result"
    }
   ],
   "source": [
    "targets = json.load(open('data/targets.json', 'r'))\n",
    "targets = pd.DataFrame(targets)\n",
    "targets"
   ]
  },
  {
   "cell_type": "code",
   "execution_count": 6,
   "id": "83e3d130",
   "metadata": {},
   "outputs": [],
   "source": [
    "src = load_objectives(path_target='data/targets.json')\n"
   ]
  },
  {
   "cell_type": "code",
   "execution_count": 7,
   "id": "c3137c49",
   "metadata": {},
   "outputs": [],
   "source": [
    "model = src.build_model()"
   ]
  },
  {
   "cell_type": "code",
   "execution_count": 8,
   "id": "6e1de891",
   "metadata": {},
   "outputs": [
    {
     "name": "stderr",
     "output_type": "stream",
     "text": [
      "Initializing SMC sampler...\n",
      "Sampling 1 chain in 1 job\n"
     ]
    },
    {
     "data": {
      "text/html": [
       "\n",
       "<style>\n",
       "    /* Turns off some styling */\n",
       "    progress {\n",
       "        /* gets rid of default border in Firefox and Opera. */\n",
       "        border: none;\n",
       "        /* Needs to be in here for Safari polyfill so background images work as expected. */\n",
       "        background-size: auto;\n",
       "    }\n",
       "    progress:not([value]), progress:not([value])::-webkit-progress-bar {\n",
       "        background: repeating-linear-gradient(45deg, #7e7e7e, #7e7e7e 10px, #5c5c5c 10px, #5c5c5c 20px);\n",
       "    }\n",
       "    .progress-bar-interrupted, .progress-bar-interrupted::-webkit-progress-bar {\n",
       "        background: #F44336;\n",
       "    }\n",
       "</style>\n"
      ],
      "text/plain": [
       "<IPython.core.display.HTML object>"
      ]
     },
     "metadata": {},
     "output_type": "display_data"
    },
    {
     "data": {
      "text/html": [
       "\n",
       "    <div>\n",
       "      <progress value='100' class='' max='100' style='width:300px; height:20px; vertical-align: middle;'></progress>\n",
       "      100.00% [100/100 00:00&lt;? Chain: 1/1 Stage: 8 Beta: 1.000]\n",
       "    </div>\n",
       "    "
      ],
      "text/plain": [
       "<IPython.core.display.HTML object>"
      ]
     },
     "metadata": {},
     "output_type": "display_data"
    },
    {
     "name": "stdout",
     "output_type": "stream",
     "text": [
      " "
     ]
    },
    {
     "name": "stderr",
     "output_type": "stream",
     "text": [
      "/opt/conda/envs/pymc-dev/lib/python3.10/site-packages/pymc/smc/sample_smc.py:248: UserWarning: The number of samples is too small to check convergence reliably.\n",
      "  _compute_convergence_checks(idata, draws, model, trace)\n"
     ]
    },
    {
     "data": {
      "text/html": [
       "\n",
       "<style>\n",
       "    /* Turns off some styling */\n",
       "    progress {\n",
       "        /* gets rid of default border in Firefox and Opera. */\n",
       "        border: none;\n",
       "        /* Needs to be in here for Safari polyfill so background images work as expected. */\n",
       "        background-size: auto;\n",
       "    }\n",
       "    progress:not([value]), progress:not([value])::-webkit-progress-bar {\n",
       "        background: repeating-linear-gradient(45deg, #7e7e7e, #7e7e7e 10px, #5c5c5c 10px, #5c5c5c 20px);\n",
       "    }\n",
       "    .progress-bar-interrupted, .progress-bar-interrupted::-webkit-progress-bar {\n",
       "        background: #F44336;\n",
       "    }\n",
       "</style>\n"
      ],
      "text/plain": [
       "<IPython.core.display.HTML object>"
      ]
     },
     "metadata": {},
     "output_type": "display_data"
    },
    {
     "data": {
      "text/html": [
       "\n",
       "    <div>\n",
       "      <progress value='10' class='' max='10' style='width:300px; height:20px; vertical-align: middle;'></progress>\n",
       "      100.00% [10/10 00:11&lt;00:00]\n",
       "    </div>\n",
       "    "
      ],
      "text/plain": [
       "<IPython.core.display.HTML object>"
      ]
     },
     "metadata": {},
     "output_type": "display_data"
    }
   ],
   "source": [
    "with model:\n",
    "    fit = pm.sample_smc(draws=10, chains=1)\n",
    "    ppost = pm.sample_posterior_predictive(fit)"
   ]
  },
  {
   "cell_type": "code",
   "execution_count": 9,
   "id": "403edcaf",
   "metadata": {},
   "outputs": [
    {
     "data": {
      "image/png": "[encoded data removed]",
      "text/plain": [
       "<Figure size 640x480 with 9 Axes>"
      ]
     },
     "metadata": {},
     "output_type": "display_data"
    }
   ],
   "source": [
    "obs, eps = src.Obs, src.Eps\n",
    "\n",
    "fig, ax = plt.subplots(nrows=9)\n",
    "\n",
    "\n",
    "m = np.mean(ppost.posterior_predictive.sim.stack(samples=('chain', 'draw')), 1)\n",
    "l = np.quantile(ppost.posterior_predictive.sim.stack(samples=('chain', 'draw')), 0.025, 1)\n",
    "u = np.quantile(ppost.posterior_predictive.sim.stack(samples=('chain', 'draw')), 0.975, 1)\n",
    "\n",
    "for i in range(6):\n",
    "    ax[i].scatter(obs[i], 0)\n",
    "    ax[i].plot([obs[i] - eps[i], obs[i] + eps[i]], [0, 0] )\n",
    "    \n",
    "    ax[i].scatter(m[i], 0.1)\n",
    "    ax[i].plot([l[i], u[i]], [0.1, 0.1] )\n",
    "    \n",
    "    "
   ]
  },
  {
   "cell_type": "code",
   "execution_count": null,
   "id": "901939a4",
   "metadata": {},
   "outputs": [],
   "source": []
  }
 ],
 "metadata": {
  "kernelspec": {
   "display_name": "Python 3 (ipykernel)",
   "language": "python",
   "name": "python3"
  },
  "language_info": {
   "codemirror_mode": {
    "name": "ipython",
    "version": 3
   },
   "file_extension": ".py",
   "mimetype": "text/x-python",
   "name": "python",
   "nbconvert_exporter": "python",
   "pygments_lexer": "ipython3",
   "version": "3.10.5"
  }
 },
 "nbformat": 4,
 "nbformat_minor": 5
}
