{
 "cells": [
  {
   "cell_type": "code",
   "execution_count": 1,
   "id": "dcfedd4c",
   "metadata": {},
   "outputs": [],
   "source": [
    "from joblib import Parallel, delayed\n",
    "from sim.dy import Model\n",
    "from sim import load_inputs\n",
    "import json\n",
    "import pandas as pd\n",
    "import matplotlib.pylab as plt\n",
    "import os"
   ]
  },
  {
   "cell_type": "code",
   "execution_count": 2,
   "id": "c8c08319",
   "metadata": {},
   "outputs": [
    {
     "name": "stdout",
     "output_type": "stream",
     "text": [
      "Prior size: 200\n"
     ]
    }
   ],
   "source": [
    "with open('data/test_priors.json', 'r') as f:\n",
    "    prior = json.load(f)\n",
    "\n",
    "print(f'Prior size: {len(prior)}')\n",
    "    \n",
    "inputs = load_inputs('data/pars.json')\n",
    "\n",
    "m = Model(inputs, year0=1970)"
   ]
  },
  {
   "cell_type": "code",
   "execution_count": 10,
   "id": "486431b6",
   "metadata": {},
   "outputs": [],
   "source": [
    "def fn(i, p0, model):\n",
    "    _, ms, msg = model.simulate(p0)\n",
    "    if msg['succ']:\n",
    "        ms = pd.DataFrame(ms).assign(Key = i)\n",
    "        return ms\n",
    "    else:\n",
    "        return None"
   ]
  },
  {
   "cell_type": "code",
   "execution_count": 11,
   "id": "95ba40f1",
   "metadata": {},
   "outputs": [
    {
     "name": "stderr",
     "output_type": "stream",
     "text": [
      "[Parallel(n_jobs=5)]: Using backend LokyBackend with 5 concurrent workers.\n",
      "[Parallel(n_jobs=5)]: Done  15 tasks      | elapsed:    6.8s\n",
      "[Parallel(n_jobs=5)]: Done  88 tasks      | elapsed:   25.6s\n",
      "[Parallel(n_jobs=5)]: Done 200 out of 200 | elapsed:   54.7s finished\n"
     ]
    }
   ],
   "source": [
    "with Parallel(n_jobs=5, verbose=4) as parallel:\n",
    "    mss = parallel(delayed(fn)(i, p, m) for i, p in enumerate(prior))"
   ]
  },
  {
   "cell_type": "code",
   "execution_count": 5,
   "id": "5cb981e8",
   "metadata": {},
   "outputs": [
    {
     "ename": "NameError",
     "evalue": "name 'mss' is not defined",
     "output_type": "error",
     "traceback": [
      "\u001b[0;31m---------------------------------------------------------------------------\u001b[0m",
      "\u001b[0;31mNameError\u001b[0m                                 Traceback (most recent call last)",
      "Input \u001b[0;32mIn [5]\u001b[0m, in \u001b[0;36m<cell line: 1>\u001b[0;34m()\u001b[0m\n\u001b[0;32m----> 1\u001b[0m mss \u001b[38;5;241m=\u001b[39m pd\u001b[38;5;241m.\u001b[39mDataFrame(\u001b[43mmss\u001b[49m)\n\u001b[1;32m      2\u001b[0m mss\u001b[38;5;241m.\u001b[39mhead()\n",
      "\u001b[0;31mNameError\u001b[0m: name 'mss' is not defined"
     ]
    }
   ],
   "source": [
    "mss = [ms for ms in mss if ms is not None]\n",
    "mss = pd.concat(mss)\n",
    "mss.head()"
   ]
  },
  {
   "cell_type": "code",
   "execution_count": null,
   "id": "d5b9da5b",
   "metadata": {},
   "outputs": [],
   "source": [
    "out_path = 'out/dy_free'\n",
    "\n",
    "os.makedirs(out_path, exist_ok=True)\n",
    "\n",
    "mss.to_csv(f'{out_path}/Runs_Prior.csv')"
   ]
  }
 ],
 "metadata": {
  "kernelspec": {
   "display_name": "Python 3 (ipykernel)",
   "language": "python",
   "name": "python3"
  },
  "language_info": {
   "codemirror_mode": {
    "name": "ipython",
    "version": 3
   },
   "file_extension": ".py",
   "mimetype": "text/x-python",
   "name": "python",
   "nbconvert_exporter": "python",
   "pygments_lexer": "ipython3",
   "version": "3.10.5"
  }
 },
 "nbformat": 4,
 "nbformat_minor": 5
}
