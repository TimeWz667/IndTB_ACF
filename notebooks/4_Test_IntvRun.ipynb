{
 "cells": [
  {
   "cell_type": "code",
   "execution_count": 1,
   "id": "b12267a6",
   "metadata": {},
   "outputs": [],
   "source": [
    "import json\n",
    "import matplotlib.pyplot as plt\n",
    "import numpy as np\n",
    "import pandas as pd\n",
    "import os\n",
    "import arviz as az"
   ]
  },
  {
   "cell_type": "code",
   "execution_count": 9,
   "id": "282f3f6b",
   "metadata": {},
   "outputs": [],
   "source": [
    "from sim.dy import Model\n",
    "from sim import load_inputs\n",
    "import sim.dy.keys as I"
   ]
  },
  {
   "cell_type": "code",
   "execution_count": 2,
   "id": "ddcdcf1f",
   "metadata": {},
   "outputs": [],
   "source": [
    "out_path = f'out/dy_free'"
   ]
  },
  {
   "cell_type": "code",
   "execution_count": 3,
   "id": "79d48d4f",
   "metadata": {},
   "outputs": [],
   "source": [
    "pars_post = json.load(open(f'{out_path}/Post.json', 'r'))"
   ]
  },
  {
   "cell_type": "code",
   "execution_count": 10,
   "id": "5940fe29",
   "metadata": {},
   "outputs": [],
   "source": [
    "inputs = load_inputs('data/pars.json')\n",
    "\n",
    "m = Model(inputs, year0=1970)"
   ]
  },
  {
   "cell_type": "code",
   "execution_count": 12,
   "id": "e34c1750",
   "metadata": {},
   "outputs": [],
   "source": [
    "p0 = pars_post[0]\n",
    "y0, ms, _ = m.simulate_to_baseline(p0)"
   ]
  },
  {
   "cell_type": "code",
   "execution_count": 15,
   "id": "9021445e",
   "metadata": {},
   "outputs": [],
   "source": [
    "y = y0.reshape((-1, 2))"
   ]
  },
  {
   "cell_type": "code",
   "execution_count": 18,
   "id": "8d81c552",
   "metadata": {},
   "outputs": [
    {
     "data": {
      "text/plain": [
       "array([0.16302566, 0.10923832])"
      ]
     },
     "execution_count": 18,
     "metadata": {},
     "output_type": "execute_result"
    }
   ],
   "source": [
    "y[I.LTBI].sum(0) / y.sum()"
   ]
  },
  {
   "cell_type": "code",
   "execution_count": 19,
   "id": "310f9f4b",
   "metadata": {},
   "outputs": [],
   "source": [
    "_, ms, _ = m.simulate(p0)"
   ]
  },
  {
   "cell_type": "code",
   "execution_count": 23,
   "id": "c3fd4ffc",
   "metadata": {},
   "outputs": [
    {
     "data": {
      "text/plain": [
       "0.2990742713658743"
      ]
     },
     "execution_count": 23,
     "metadata": {},
     "output_type": "execute_result"
    }
   ],
   "source": [
    "p0['p_comorb']"
   ]
  },
  {
   "cell_type": "code",
   "execution_count": 24,
   "id": "6b2ad140",
   "metadata": {},
   "outputs": [
    {
     "data": {
      "text/plain": [
       "array([0.70092573, 0.29907427])"
      ]
     },
     "execution_count": 24,
     "metadata": {},
     "output_type": "execute_result"
    }
   ],
   "source": [
    "y.sum(0) / y.sum()"
   ]
  },
  {
   "cell_type": "markdown",
   "id": "e0d72b53",
   "metadata": {},
   "source": [
    "# MU"
   ]
  },
  {
   "cell_type": "code",
   "execution_count": 25,
   "id": "253cd319",
   "metadata": {},
   "outputs": [],
   "source": [
    "r_acf = 0.01"
   ]
  },
  {
   "cell_type": "code",
   "execution_count": 27,
   "id": "2e8eb6d0",
   "metadata": {},
   "outputs": [],
   "source": [
    "sens_cxr, spec_cxr = p0['acf_cxr_sens'], p0['acf_cxr_spec']\n",
    "sens_xpert, spec_xpert = p0['acf_xpert_sens'], p0['acf_xpert_spec']"
   ]
  },
  {
   "cell_type": "code",
   "execution_count": 60,
   "id": "eb869456",
   "metadata": {},
   "outputs": [
    {
     "data": {
      "text/plain": [
       "(23794.05162045836, 5689.689150826871, 285.3128546132116, 0.40598963228827195)"
      ]
     },
     "execution_count": 60,
     "metadata": {},
     "output_type": "execute_result"
    }
   ],
   "source": [
    "p_tp = sens_cxr * sens_xpert\n",
    "p_fn = 1 - p_tp\n",
    "p_fp = 1 - spec_cxr + (1 - spec_cxr) * spec_xpert\n",
    "p_tn = spec_cxr + (1 - spec_cxr) * spec_xpert\n",
    "\n",
    "\n",
    "reach0 = r_acf * y\n",
    "reach0[I.Tx_DS] = 0\n",
    "reach0[I.Tx_DR] = 0\n",
    "\n",
    "reach1 = np.zeros_like(reach0) \n",
    "reach1[I.U] = (1 - spec_cxr)\n",
    "reach1[I.LTBI] = (1 - spec_cxr)\n",
    "reach1[I.Infectious] = sens_cxr\n",
    "reach1 *= reach0\n",
    "\n",
    "reach2 = np.zeros_like(reach1)\n",
    "reach2[I.U] = (1 - spec_xpert)\n",
    "reach2[I.LTBI] = (1 - spec_xpert)\n",
    "reach2[I.Infectious] = sens_xpert\n",
    "reach2 *= reach1\n",
    "\n",
    "ppv_mu = reach2[I.Infectious].sum() / reach2.sum()\n",
    "\n",
    "reach0.sum(), reach1.sum(), reach2.sum(), ppv_mu"
   ]
  },
  {
   "cell_type": "code",
   "execution_count": 51,
   "id": "9896cfd0",
   "metadata": {},
   "outputs": [],
   "source": [
    "from scipy.optimize import minimize_scalar"
   ]
  },
  {
   "cell_type": "code",
   "execution_count": 78,
   "id": "bf0fe07c",
   "metadata": {},
   "outputs": [
    {
     "data": {
      "text/plain": [
       "0.4059899194238976"
      ]
     },
     "execution_count": 78,
     "metadata": {},
     "output_type": "execute_result"
    }
   ],
   "source": [
    "def fn(spec, ppv):\n",
    "    reach0 = r_acf * y\n",
    "    reach0[I.Tx_DS] = 0\n",
    "    reach0[I.Tx_DR] = 0\n",
    "\n",
    "    reach1 = np.zeros_like(reach0) \n",
    "\n",
    "    reach1[I.LTBI + I.Asym] = (1 - spec)\n",
    "    reach1[I.U] = (1 - spec)\n",
    "    reach1[I.Sym + I.ExSym] = 1\n",
    "    reach1 *= reach0\n",
    "\n",
    "    reach2 = np.zeros_like(reach1)\n",
    "    reach2[I.U] = (1 - spec_xpert)\n",
    "    reach2[I.LTBI] = (1 - spec_xpert)\n",
    "    reach2[I.Infectious] = sens_xpert\n",
    "    reach2 *= reach1\n",
    "\n",
    "    ppv_d2d = reach2[I.Infectious].sum() / reach2.sum()\n",
    "    \n",
    "    return (ppv_d2d - ppv) ** 2\n",
    "\n",
    "opt = minimize_scalar(fn, 1, args=(ppv_mu, ), method='bounded', bounds=(0.5, 1))\n",
    "opt.x"
   ]
  }
 ],
 "metadata": {
  "kernelspec": {
   "display_name": "Python 3 (ipykernel)",
   "language": "python",
   "name": "python3"
  },
  "language_info": {
   "codemirror_mode": {
    "name": "ipython",
    "version": 3
   },
   "file_extension": ".py",
   "mimetype": "text/x-python",
   "name": "python",
   "nbconvert_exporter": "python",
   "pygments_lexer": "ipython3",
   "version": "3.10.5"
  }
 },
 "nbformat": 4,
 "nbformat_minor": 5
}
