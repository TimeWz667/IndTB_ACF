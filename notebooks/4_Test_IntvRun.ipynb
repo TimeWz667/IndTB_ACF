{
 "cells": [
  {
   "cell_type": "code",
   "execution_count": 1,
   "id": "b12267a6",
   "metadata": {},
   "outputs": [],
   "source": [
    "import json\n",
    "import matplotlib.pyplot as plt\n",
    "import numpy as np\n",
    "import pandas as pd\n",
    "import os\n",
    "import arviz as az"
   ]
  },
  {
   "cell_type": "code",
   "execution_count": 2,
   "id": "282f3f6b",
   "metadata": {},
   "outputs": [],
   "source": [
    "from sim.dy.model_intv import ModelIntv\n",
    "import sim.dy.keys as I"
   ]
  },
  {
   "cell_type": "code",
   "execution_count": 3,
   "id": "ddcdcf1f",
   "metadata": {},
   "outputs": [],
   "source": [
    "out_path = f'out/dy_ladd'"
   ]
  },
  {
   "cell_type": "code",
   "execution_count": 4,
   "id": "79d48d4f",
   "metadata": {},
   "outputs": [],
   "source": [
    "pars_post = json.load(open(f'{out_path}/Post.json', 'r'))"
   ]
  },
  {
   "cell_type": "code",
   "execution_count": 5,
   "id": "5940fe29",
   "metadata": {},
   "outputs": [],
   "source": [
    "m = ModelIntv(year0=1970)"
   ]
  },
  {
   "cell_type": "code",
   "execution_count": 6,
   "id": "9021445e",
   "metadata": {},
   "outputs": [],
   "source": [
    "p0 = pars_post[0]\n",
    "\n",
    "y1, p1 = m.find_baseline(p0, 2022)\n",
    "\n",
    "_, ms0, _ = m.simulate_onward(y1, p1, intv={'FullACF': {'Coverage': 0.4}}, polished=True)"
   ]
  },
  {
   "cell_type": "code",
   "execution_count": 12,
   "id": "c619456d",
   "metadata": {},
   "outputs": [
    {
     "data": {
      "text/plain": [
       "Time\n",
       "2022.0    0.0\n",
       "2022.5    0.0\n",
       "2023.0    0.4\n",
       "2023.5    0.4\n",
       "2024.0    0.4\n",
       "2024.5    0.4\n",
       "2025.0    0.4\n",
       "2025.5    0.4\n",
       "2026.0    0.4\n",
       "2026.5    0.4\n",
       "2027.0    0.4\n",
       "2027.5    0.4\n",
       "2028.0    0.4\n",
       "2028.5    0.4\n",
       "2029.0    0.4\n",
       "2029.5    0.4\n",
       "2030.0    0.4\n",
       "2030.5    0.4\n",
       "2031.0    0.4\n",
       "Name: ACF_Footfall, dtype: float64"
      ]
     },
     "execution_count": 12,
     "metadata": {},
     "output_type": "execute_result"
    }
   ],
   "source": [
    "idx = ['Pop', 'IncR', 'MorR'] + [c for c in ms.columns if c.startswith('ACF_Plain') or c.startswith('ACF_Vul')]\n",
    "\n",
    "ms = ms[idx].reset_index().assign(Key = i, Coverage=k, p_comorb=pars['p_comorb'], rr=pars['rr_risk_comorb'])\n",
    "mss.append(ms)\n",
    "\n",
    "ms_stats = {'Key': i, 'Coverage': k, 'Pop0': ms.Pop.iloc[0]}\n",
    "\n",
    "for key in idx[1:]:\n",
    "    ms_stats[key] = (ms[key] * ms.Pop).sum() * 0.5\n",
    "\n",
    "mss_stats.append(ms_stats)"
   ]
  },
  {
   "cell_type": "code",
   "execution_count": 49,
   "id": "8d81c552",
   "metadata": {},
   "outputs": [
    {
     "data": {
      "text/plain": [
       "<AxesSubplot:xlabel='Time'>"
      ]
     },
     "execution_count": 49,
     "metadata": {},
     "output_type": "execute_result"
    },
    {
     "data": {
      "image/png": "[encoded data removed]",
      "text/plain": [
       "<Figure size 640x480 with 1 Axes>"
      ]
     },
     "metadata": {},
     "output_type": "display_data"
    }
   ],
   "source": [
    "ms0[['MorR', 'IncR', 'Prev']].plot()"
   ]
  }
 ],
 "metadata": {
  "kernelspec": {
   "display_name": "Python 3 (ipykernel)",
   "language": "python",
   "name": "python3"
  },
  "language_info": {
   "codemirror_mode": {
    "name": "ipython",
    "version": 3
   },
   "file_extension": ".py",
   "mimetype": "text/x-python",
   "name": "python",
   "nbconvert_exporter": "python",
   "pygments_lexer": "ipython3",
   "version": "3.10.5"
  }
 },
 "nbformat": 4,
 "nbformat_minor": 5
}
