{
 "cells": [
  {
   "cell_type": "code",
   "execution_count": 1,
   "id": "9a61f0f1",
   "metadata": {},
   "outputs": [],
   "source": [
    "import pymc as pm\n",
    "from mc.pymc_util import *\n",
    "import json"
   ]
  },
  {
   "cell_type": "code",
   "execution_count": 2,
   "id": "d59a812c",
   "metadata": {},
   "outputs": [
    {
     "data": {
      "text/plain": [
       "(p_comorb ~ U(0, 0.5),\n",
       " rr_risk_comorb ~ U(1, 30),\n",
       " beta_ds ~ U(1, 15),\n",
       " rr_beta_dr ~ U(0.9, 1.1),\n",
       " rr_inf_asym ~ U(0, 1),\n",
       " rr_inf_sn ~ U(0.1, 0.3),\n",
       " red_sus ~ U(0.15, 0.25),\n",
       " rr_sus_ltbi ~ U(0.15, 0.25),\n",
       " r_relapse_td ~ Triang(0.105, 0.14, 0.175),\n",
       " r_relapse_tc ~ Triang(0.024, 0.032, 0.04),\n",
       " r_relapse_st ~ Triang(0.0011, 0.0019, 0.002),\n",
       " r_onset_sp ~ Triang(1.02, 1.24, 1.65),\n",
       " r_onset_sn ~ Triang(1.9, 2.37, 3.05),\n",
       " r_convert_a ~ Triang(0.62, 0.63, 0.64),\n",
       " r_convert_s ~ Triang(0.4, 0.71, 1.04),\n",
       " r_clear ~ U(0.02, 0.04),\n",
       " r_cs_s ~ Triang(0.57, 0.73, 0.91),\n",
       " r_cs_c ~ Triang(9, 12, 15))"
      ]
     },
     "execution_count": 2,
     "metadata": {},
     "output_type": "execute_result"
    }
   ],
   "source": [
    "src = DataModel([], [], None)\n",
    "dm = pm.Model()\n",
    "src.define_prior(dm)"
   ]
  },
  {
   "cell_type": "code",
   "execution_count": 3,
   "id": "942bc677",
   "metadata": {},
   "outputs": [],
   "source": [
    "with dm:\n",
    "    pprior = pm.sample_prior_predictive(samples = 200)\n",
    "    \n",
    "pprior = prior_to_particles(pprior)"
   ]
  },
  {
   "cell_type": "code",
   "execution_count": 4,
   "id": "4430cab0",
   "metadata": {},
   "outputs": [],
   "source": [
    "pprior = [src.serve(p) for p in pprior]"
   ]
  },
  {
   "cell_type": "code",
   "execution_count": 5,
   "id": "ff043e0f",
   "metadata": {},
   "outputs": [],
   "source": [
    "with open('data/test_priors.json', 'w') as f:\n",
    "    json.dump(pprior, f)"
   ]
  },
  {
   "cell_type": "code",
   "execution_count": 6,
   "id": "11d5b220",
   "metadata": {},
   "outputs": [
    {
     "data": {
      "text/plain": [
       "{'r_cs_s': 0.718153228054493,\n",
       " 'r_relapse_td': 0.13026725065583938,\n",
       " 'r_relapse_st': 0.0013639819056735932,\n",
       " 'rr_beta_dr': 1.0803942734382512,\n",
       " 'r_cs_c': 13.663803790052684,\n",
       " 'r_convert_a': 0.6309911336796405,\n",
       " 'r_relapse_tc': 0.036630546938696176,\n",
       " 'rr_risk_comorb': 28.51879447869631,\n",
       " 'rr_inf_asym': 0.2976407904869264,\n",
       " 'rr_sus_ltbi': 0.15575960989133272,\n",
       " 'rr_inf_sn': 0.18775471810649422,\n",
       " 'red_sus': 0.16565454124029336,\n",
       " 'beta_ds': 10.976747382964103,\n",
       " 'r_onset_sn': 2.4403151764191002,\n",
       " 'r_clear': 0.027635307370210544,\n",
       " 'p_comorb': 0.05511995758728094,\n",
       " 'r_onset_sp': 1.3058954848987967,\n",
       " 'r_convert_s': 0.5856133424005054,\n",
       " 'r_die': 0.015151515151515152,\n",
       " 'r_growth': 0.0175,\n",
       " 'p_primary': 0.14,\n",
       " 'r_react': 0.001,\n",
       " 'r_stab': 0.5,\n",
       " 'p_sp0': 0.6,\n",
       " 'r_sc': 0.2,\n",
       " 'r_die_ut': 0.2,\n",
       " 'p_entry_pri': 0.5,\n",
       " 'p_dx_pub': 0.83,\n",
       " 'p_dx_pri': 0.7,\n",
       " 'p_txf_pub': 0.88,\n",
       " 'p_txf_pri': 0.7,\n",
       " 'p_txs_pub': 0.88,\n",
       " 'p_txs_pri': 0,\n",
       " 'p_dst_pcf': 0.12,\n",
       " 'sens_acf_sp_high': 1,\n",
       " 'sens_acf_sn_high': 0.7,\n",
       " 'spec_acf_high': 0.99,\n",
       " 'p_dst_acf_high': 0.95,\n",
       " 'sens_acf_sp_mod': 1,\n",
       " 'sens_acf_sn_mod': 0,\n",
       " 'spec_acf_mod': 0.98,\n",
       " 'p_dst_acf_mod': 0.12,\n",
       " 'sens_acf_screen': 0.7,\n",
       " 'spec_acf_screen': 0.61,\n",
       " 'r_acf_screen': 365,\n",
       " 'r_acf_dx': 52,\n",
       " 'r_succ_txf': 2,\n",
       " 'r_succ_txs': 0.5,\n",
       " 'p_succ_txf_pub': 0.85,\n",
       " 'p_succ_txf_pri': 0.6,\n",
       " 'p_succ_txs_pub': 0.46,\n",
       " 'p_succ_txs_pri': 0,\n",
       " 'p_tr_pub': 0.88,\n",
       " 'r_mdr_tx': 0.01,\n",
       " 'r_succ_txf_pub': 2,\n",
       " 'r_succ_txf_pri': 2,\n",
       " 'r_succ_txs_pub': 0.5,\n",
       " 'r_succ_txs_pri': 0,\n",
       " 'r_ltfu_txf_pub': 0.3529411764705883,\n",
       " 'r_ltfu_txf_pri': 1.3333333333333335,\n",
       " 'r_ltfu_txs_pub': 0.5869565217391305,\n",
       " 'r_ltfu_txs_pri': 0.5}"
      ]
     },
     "execution_count": 6,
     "metadata": {},
     "output_type": "execute_result"
    }
   ],
   "source": [
    "pprior[0]"
   ]
  }
 ],
 "metadata": {
  "kernelspec": {
   "display_name": "Python 3 (ipykernel)",
   "language": "python",
   "name": "python3"
  },
  "language_info": {
   "codemirror_mode": {
    "name": "ipython",
    "version": 3
   },
   "file_extension": ".py",
   "mimetype": "text/x-python",
   "name": "python",
   "nbconvert_exporter": "python",
   "pygments_lexer": "ipython3",
   "version": "3.9.13"
  }
 },
 "nbformat": 4,
 "nbformat_minor": 5
}
