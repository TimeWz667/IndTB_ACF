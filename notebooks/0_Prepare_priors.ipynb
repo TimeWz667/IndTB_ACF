{
 "cells": [
  {
   "cell_type": "code",
   "execution_count": 1,
   "id": "9a61f0f1",
   "metadata": {},
   "outputs": [],
   "source": [
    "import pymc as pm\n",
    "from mc import *\n",
    "import json\n",
    "import matplotlib.pyplot as plt\n",
    "import numpy as np"
   ]
  },
  {
   "cell_type": "code",
   "execution_count": 2,
   "id": "d59a812c",
   "metadata": {},
   "outputs": [],
   "source": [
    "src = load_objectives(\n",
    "    path_data='data/pars.json', \n",
    "    path_target='data/targets.json'\n",
    ")"
   ]
  },
  {
   "cell_type": "code",
   "execution_count": 3,
   "id": "942bc677",
   "metadata": {},
   "outputs": [],
   "source": [
    "dm = pm.Model()\n",
    "src.define_prior(dm)\n",
    "\n",
    "with dm:\n",
    "    pprior = pm.sample_prior_predictive(samples = 200)\n",
    "    \n",
    "pprior = prior_to_particles(pprior)\n",
    "pprior = [src.serve(p) for p in pprior]"
   ]
  },
  {
   "cell_type": "code",
   "execution_count": 4,
   "id": "ff043e0f",
   "metadata": {},
   "outputs": [],
   "source": [
    "with open('data/test_priors.json', 'w') as f:\n",
    "    json.dump(pprior, f)"
   ]
  },
  {
   "cell_type": "code",
   "execution_count": 5,
   "id": "11d5b220",
   "metadata": {},
   "outputs": [],
   "source": [
    "model = src.build_model()\n",
    "\n",
    "with model:\n",
    "    pprior = pm.sample_prior_predictive(samples=100)"
   ]
  },
  {
   "cell_type": "code",
   "execution_count": 6,
   "id": "13647dc6",
   "metadata": {},
   "outputs": [
    {
     "data": {
      "image/png": "[encoded data removed]",
      "text/plain": [
       "<Figure size 640x480 with 6 Axes>"
      ]
     },
     "metadata": {},
     "output_type": "display_data"
    }
   ],
   "source": [
    "obs, eps = src.Obs, src.Eps\n",
    "\n",
    "fig, ax = plt.subplots(nrows=len(obs))\n",
    "\n",
    "m = np.mean(pprior.prior_predictive.sim.stack(samples=('chain', 'draw')), 1)\n",
    "l = np.quantile(pprior.prior_predictive.sim.stack(samples=('chain', 'draw')), 0.025, 1)\n",
    "u = np.quantile(pprior.prior_predictive.sim.stack(samples=('chain', 'draw')), 0.975, 1)\n",
    "\n",
    "for i in range(len(obs)):\n",
    "    ax[i].scatter(obs[i], 0)\n",
    "    ax[i].plot([obs[i] - eps[i], obs[i] + eps[i]], [0, 0] )\n",
    "    \n",
    "    ax[i].scatter(m[i], 0.1)\n",
    "    ax[i].plot([l[i], u[i]], [0.1, 0.1] )\n"
   ]
  },
  {
   "cell_type": "code",
   "execution_count": null,
   "id": "637a43c4",
   "metadata": {},
   "outputs": [],
   "source": []
  }
 ],
 "metadata": {
  "kernelspec": {
   "display_name": "Python 3 (ipykernel)",
   "language": "python",
   "name": "python3"
  },
  "language_info": {
   "codemirror_mode": {
    "name": "ipython",
    "version": 3
   },
   "file_extension": ".py",
   "mimetype": "text/x-python",
   "name": "python",
   "nbconvert_exporter": "python",
   "pygments_lexer": "ipython3",
   "version": "3.10.5"
  }
 },
 "nbformat": 4,
 "nbformat_minor": 5
}
