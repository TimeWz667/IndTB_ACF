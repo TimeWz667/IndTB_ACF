{
 "cells": [
  {
   "cell_type": "code",
   "execution_count": 1,
   "id": "9a61f0f1",
   "metadata": {},
   "outputs": [
    {
     "ename": "ModuleNotFoundError",
     "evalue": "No module named 'mc'",
     "output_type": "error",
     "traceback": [
      "\u001b[0;31m---------------------------------------------------------------------------\u001b[0m",
      "\u001b[0;31mModuleNotFoundError\u001b[0m                       Traceback (most recent call last)",
      "Input \u001b[0;32mIn [1]\u001b[0m, in \u001b[0;36m<cell line: 2>\u001b[0;34m()\u001b[0m\n\u001b[1;32m      1\u001b[0m \u001b[38;5;28;01mimport\u001b[39;00m \u001b[38;5;21;01mpymc\u001b[39;00m \u001b[38;5;28;01mas\u001b[39;00m \u001b[38;5;21;01mpm\u001b[39;00m\n\u001b[0;32m----> 2\u001b[0m \u001b[38;5;28;01mfrom\u001b[39;00m \u001b[38;5;21;01mmc\u001b[39;00m \u001b[38;5;28;01mimport\u001b[39;00m \u001b[38;5;241m*\u001b[39m\n\u001b[1;32m      3\u001b[0m \u001b[38;5;28;01mimport\u001b[39;00m \u001b[38;5;21;01mjson\u001b[39;00m\n\u001b[1;32m      4\u001b[0m \u001b[38;5;28;01mimport\u001b[39;00m \u001b[38;5;21;01mmatplotlib\u001b[39;00m\u001b[38;5;21;01m.\u001b[39;00m\u001b[38;5;21;01mpyplot\u001b[39;00m \u001b[38;5;28;01mas\u001b[39;00m \u001b[38;5;21;01mplt\u001b[39;00m\n",
      "\u001b[0;31mModuleNotFoundError\u001b[0m: No module named 'mc'"
     ]
    }
   ],
   "source": [
    "import pymc as pm\n",
    "from mc import *\n",
    "import json\n",
    "import matplotlib.pyplot as plt\n",
    "import numpy as np"
   ]
  },
  {
   "cell_type": "code",
   "execution_count": null,
   "id": "d59a812c",
   "metadata": {},
   "outputs": [],
   "source": [
    "src = load_objectives(\n",
    "    path_data='data/pars.json', \n",
    "    path_target='data/targets.json'\n",
    ")"
   ]
  },
  {
   "cell_type": "code",
   "execution_count": null,
   "id": "942bc677",
   "metadata": {},
   "outputs": [],
   "source": [
    "dm = pm.Model()\n",
    "src.define_prior(dm)\n",
    "\n",
    "with dm:\n",
    "    pprior = pm.sample_prior_predictive(samples = 200)\n",
    "    \n",
    "pprior = prior_to_particles(pprior)\n",
    "pprior = [src.serve(p) for p in pprior]"
   ]
  },
  {
   "cell_type": "code",
   "execution_count": null,
   "id": "ff043e0f",
   "metadata": {},
   "outputs": [],
   "source": [
    "with open('data/test_priors.json', 'w') as f:\n",
    "    json.dump(pprior, f)"
   ]
  },
  {
   "cell_type": "code",
   "execution_count": null,
   "id": "11d5b220",
   "metadata": {},
   "outputs": [],
   "source": [
    "model = src.build_model()\n",
    "\n",
    "with model:\n",
    "    pprior = pm.sample_prior_predictive(samples=50)"
   ]
  },
  {
   "cell_type": "code",
   "execution_count": null,
   "id": "13647dc6",
   "metadata": {},
   "outputs": [],
   "source": [
    "obs, eps = src.Obs, src.Eps\n",
    "\n",
    "fig, ax = plt.subplots(nrows=9)\n",
    "\n",
    "m = np.mean(pprior.prior_predictive.sim.stack(samples=('chain', 'draw')), 1)\n",
    "l = np.quantile(pprior.prior_predictive.sim.stack(samples=('chain', 'draw')), 0.025, 1)\n",
    "u = np.quantile(pprior.prior_predictive.sim.stack(samples=('chain', 'draw')), 0.975, 1)\n",
    "\n",
    "for i in range(9):\n",
    "    ax[i].scatter(obs[i], 0)\n",
    "    ax[i].plot([obs[i] - eps[i], obs[i] + eps[i]], [0, 0] )\n",
    "    \n",
    "    ax[i].scatter(m[i], 0.1)\n",
    "    ax[i].plot([l[i], u[i]], [0.1, 0.1] )\n"
   ]
  }
 ],
 "metadata": {
  "kernelspec": {
   "display_name": "Python 3 (ipykernel)",
   "language": "python",
   "name": "python3"
  },
  "language_info": {
   "codemirror_mode": {
    "name": "ipython",
    "version": 3
   },
   "file_extension": ".py",
   "mimetype": "text/x-python",
   "name": "python",
   "nbconvert_exporter": "python",
   "pygments_lexer": "ipython3",
   "version": "3.9.13"
  }
 },
 "nbformat": 4,
 "nbformat_minor": 5
}
